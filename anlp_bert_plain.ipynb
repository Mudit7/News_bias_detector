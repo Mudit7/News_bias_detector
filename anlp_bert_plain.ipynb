{
 "cells": [
  {
   "cell_type": "code",
   "execution_count": null,
   "metadata": {
    "id": "yp8dph0D95tG"
   },
   "outputs": [],
   "source": [
    "'''\n",
    "Dataloader\n",
    "'''\n",
    "# !wget https://zenodo.org/record/1489920/files/articles-training-bypublisher-20181122.zip?download=1\n",
    "# !unzip bypublisher.zip\n",
    "# !wget https://zenodo.org/record/1489920/files/ground-truth-training-bypublisher-20181122.zip?download=1\n",
    "# !unzip gd.zip\n",
    "\n",
    "# import sys\n",
    "# import xml.sax\n",
    "# import xml.parsers.expat\n",
    "# import time \n",
    "# import pickle\n",
    "# import os\n",
    "# from sklearn.svm import LinearSVC\n",
    "# from sklearn.feature_extraction.text import TfidfVectorizer \n",
    "# from collections import OrderedDict\n",
    "# class ParseHandler(xml.sax.handler.ContentHandler):\n",
    "#     def __init__(self):\n",
    "#         self.text=\"\"\n",
    "#     def startElement(self, name, attrs):\n",
    "#         self.CurrentData = name\n",
    "#         if(self.CurrentData==\"article\"):\n",
    "#             labels.append(attrs['hyperpartisan'])\n",
    "\n",
    "\n",
    "# labels = []\n",
    "# parser = xml.sax.make_parser()\n",
    "# parser.setFeature(xml.sax.handler.feature_namespaces, 0) \n",
    "# Handler = ParseHandler()\n",
    "# parser.setContentHandler(Handler)\n",
    "# parser.parse(\"gd.xml\")\n",
    "\n",
    "# text=[]\n",
    "# import re\n",
    "# class ParseHandler1(xml.sax.handler.ContentHandler):\n",
    "#     def __init__(self):\n",
    "#         self.text=\"\"\n",
    "#         self.r1=0\n",
    "#     def startElement(self, name, attrs):\n",
    "#         self.CurrentData = name\n",
    "#     def endElement(self, name):\n",
    "#         if(name==\"article\"):\n",
    "#             self.text=clean_text(self.text)\n",
    "#             self.text=re.sub(r'([^\\s\\w]|_)+', '', self.text)\n",
    "#             self.text=self.text.strip()\n",
    "#             text.append(self.text)\n",
    "#             self.text=\"\"    \n",
    "#     def characters(self, data):\n",
    "#         self.text += data\n",
    "\n",
    "# def clean_text(text1):\n",
    "#     text1 = text1.replace(\".\", \". \")\n",
    "#     text1 = text1.replace(\" _\", \" \")\n",
    "#     text1 = text1.replace(\"  \", \" \")\n",
    "#     text1 = text1.replace(\". . . .\", \"...\")\n",
    "#     text1 = text1.replace(\". . .\", \"...\")\n",
    "#     return text1\n",
    "\n",
    "# parser = xml.sax.make_parser()\n",
    "# parser.setFeature(xml.sax.handler.feature_namespaces, 0) \n",
    "# Handler = ParseHandler1()\n",
    "# parser.setContentHandler(Handler)\n",
    "# parser.parse(\"bypublisher.xml\")\n",
    "\n",
    "# import pandas as pd \n",
    "# df1 = pd.DataFrame(text)\n",
    "# df2=pd.DataFrame(labels)\n",
    "# # print(df1)\n",
    "# result = pd.concat([df1, df2], axis=1, sort=False) \n",
    "# result.columns = ['texts','labels']\n",
    "# result.to_csv('publisher.csv')\n",
    "# cp 'drive/My Drive/ANLP_proj/publisher.csv' ."
   ]
  },
  {
   "cell_type": "code",
   "execution_count": null,
   "metadata": {
    "id": "QJLAP9DPa3jH"
   },
   "outputs": [],
   "source": [
    "import pandas as pd\n",
    "import numpy as np\n",
    "import os"
   ]
  },
  {
   "cell_type": "code",
   "execution_count": null,
   "metadata": {
    "colab": {
     "base_uri": "https://localhost:8080/"
    },
    "id": "S6pA5tAsb9Cj",
    "outputId": "eb0a27df-6308-468f-ef7a-834093407ecd"
   },
   "outputs": [
    {
     "name": "stdout",
     "output_type": "stream",
     "text": [
      "number of samples =  50000 1\n"
     ]
    }
   ],
   "source": [
    "max_articles = 50000\n",
    "durl = 'drive/My Drive/ANLP_proj/'\n",
    "articles = []\n",
    "labels = []\n",
    "csv_File = durl + 'publisher.csv'\n",
    "df_itr = pd.read_csv(csv_File,chunksize=100)\n",
    "cur = 0\n",
    "for it in df_itr:\n",
    "  if cur >= max_articles//100:\n",
    "    break\n",
    "  articles.extend(it['texts'])\n",
    "  labels.extend(it['labels'])\n",
    "  cur+=1\n",
    "  # for row in it:\n",
    "    # print(row)\n",
    "    # articles.extend(row.iloc[cur]['texts'])\n",
    "    # labels.extend(row.iloc[cur]['labels'])\n",
    "labels = np.array(labels,dtype = np.uint8)\n",
    "print('number of samples = ',len(labels), labels[1])"
   ]
  },
  {
   "cell_type": "code",
   "execution_count": null,
   "metadata": {
    "id": "j4PPjTYMmomt"
   },
   "outputs": [],
   "source": [
    "# df = pd.read_csv('article.csv')\n",
    "# articles = df['texts'].to_numpy()\n",
    "# labels = df['labels'].to_numpy()\n",
    "# print(articles.shape)\n"
   ]
  },
  {
   "cell_type": "code",
   "execution_count": null,
   "metadata": {
    "id": "ZbAZqEQ0g7iI"
   },
   "outputs": [],
   "source": [
    "!pip install transformers\n",
    "import tensorflow as tf\n",
    "from transformers import BertTokenizer\n",
    "tokenizer=BertTokenizer.from_pretrained('bert-base-uncased')\n"
   ]
  },
  {
   "cell_type": "code",
   "execution_count": null,
   "metadata": {
    "id": "QPP11ig1bJ0z"
   },
   "outputs": [],
   "source": [
    "max_length_test = 50\n",
    "def map_example_to_dict(input_ids, attention_masks, token_type_ids, label):\n",
    "  return {\n",
    "      \"input_ids\": input_ids,\n",
    "      \"token_type_ids\": token_type_ids,\n",
    "      \"attention_mask\": attention_masks,\n",
    "  }, label\n",
    "\n",
    "def encode_examples(posts,labels):\n",
    "  # prepare list, so that we can build up final TensorFlow dataset from slices.\n",
    "  input_ids_list = []\n",
    "  token_type_ids_list = []\n",
    "  attention_mask_list = []\n",
    "  label_list = []\n",
    "  for post, label in zip(posts,labels):\n",
    "    if not isinstance(post, str):\n",
    "      continue\n",
    "    bert_input = tokenizer.encode_plus(post,\n",
    "                                       truncation=True,           \n",
    "                                      add_special_tokens = True, # add [CLS], [SEP]\n",
    "                                      max_length = max_length_test, # max length of the text that can go to BERT\n",
    "                                      padding='max_length', # add [PAD] tokens\n",
    "                                      return_attention_mask = True, # add attention mask to not focus on pad token\n",
    "\n",
    "                                      )\n",
    "  \n",
    "    input_ids_list.append(bert_input['input_ids'])\n",
    "    token_type_ids_list.append(bert_input['token_type_ids'])\n",
    "    attention_mask_list.append(bert_input['attention_mask'])\n",
    "    label_list.append([label])\n",
    "  return tf.data.Dataset.from_tensor_slices((input_ids_list, attention_mask_list, token_type_ids_list, label_list)).map(map_example_to_dict)\n",
    "\n",
    "def convert_to_tfdataset(articles,labels,batch_size = 30):\n",
    "  dataset = encode_examples(articles,labels)\n",
    "  dataset = dataset.shuffle(dataset.__len__().numpy()).batch(batch_size)\n",
    "  return dataset\n"
   ]
  },
  {
   "cell_type": "code",
   "execution_count": null,
   "metadata": {
    "id": "9qe7D_ZTxcbj"
   },
   "outputs": [],
   "source": [
    "# split\n",
    "from sklearn.model_selection import train_test_split\n",
    "X_train, X_test, y_train, y_test = train_test_split( articles, labels, test_size=0.3, random_state=21)\n",
    "train_dataset = convert_to_tfdataset(X_train,y_train,batch_size = 30)\n",
    "test_dataset = convert_to_tfdataset(X_test,y_test,batch_size = 30)"
   ]
  },
  {
   "cell_type": "code",
   "execution_count": null,
   "metadata": {
    "colab": {
     "base_uri": "https://localhost:8080/",
     "height": 66,
     "referenced_widgets": [
      "d45844d2a3a9472fad3e30efff355440",
      "69315ec3a7ce499f9f335e75e275d144",
      "cbfcd88b395845b2838f7a97b08c05ef",
      "74eb86ad8c60449997112e249ddebb99",
      "e3f9112016b5484ab3ceaf3cb691d588",
      "040391344b7b453dacea0f61f8ddfec7",
      "42e779dfb30a4a89acf2d6321a447e56",
      "fedf6e9ea42d4de4954fc1484638a0b3"
     ]
    },
    "id": "ZVEQsTs1g4CB",
    "outputId": "36fd9b43-e088-4877-b45d-a2d1ca468b8f"
   },
   "outputs": [
    {
     "data": {
      "application/vnd.jupyter.widget-view+json": {
       "model_id": "d45844d2a3a9472fad3e30efff355440",
       "version_major": 2,
       "version_minor": 0
      },
      "text/plain": [
       "HBox(children=(FloatProgress(value=0.0, description='Downloading', max=433.0, style=ProgressStyle(description_…"
      ]
     },
     "metadata": {
      "tags": []
     },
     "output_type": "display_data"
    },
    {
     "name": "stdout",
     "output_type": "stream",
     "text": [
      "\n"
     ]
    }
   ],
   "source": [
    "from transformers import BertConfig\n",
    "model_name = 'bert-base-uncased'\n",
    "config1 = BertConfig.from_pretrained(model_name)\n",
    "config1.num_labels = 2\n",
    "from transformers import TFBertForSequenceClassification"
   ]
  },
  {
   "cell_type": "code",
   "execution_count": null,
   "metadata": {
    "colab": {
     "base_uri": "https://localhost:8080/",
     "height": 171,
     "referenced_widgets": [
      "77bb2b7fca3e44cb8f73be6e7fff8bd9",
      "8b0411522bb0485e833e15a67381bff1",
      "e9595d88c1264b728336b3e2249ed345",
      "bcc4bf24f55b4b6a8d785c3a5551695d",
      "6d9931e6ecfd452cb5d8160e2673c02d",
      "8ad66c16c91541c48a07d046ccb4058c",
      "540db2412f4a45f2be84f99814e2a967",
      "d78c92ed42784031861d7ed146e36c6a"
     ]
    },
    "id": "IXAFoc27kDCq",
    "outputId": "ba272ef6-0326-4123-b3b2-431187916304"
   },
   "outputs": [
    {
     "data": {
      "application/vnd.jupyter.widget-view+json": {
       "model_id": "77bb2b7fca3e44cb8f73be6e7fff8bd9",
       "version_major": 2,
       "version_minor": 0
      },
      "text/plain": [
       "HBox(children=(FloatProgress(value=0.0, description='Downloading', max=536063208.0, style=ProgressStyle(descri…"
      ]
     },
     "metadata": {
      "tags": []
     },
     "output_type": "display_data"
    },
    {
     "name": "stdout",
     "output_type": "stream",
     "text": [
      "\n"
     ]
    },
    {
     "name": "stderr",
     "output_type": "stream",
     "text": [
      "Some layers from the model checkpoint at bert-base-uncased were not used when initializing TFBertForSequenceClassification: ['nsp___cls', 'mlm___cls']\n",
      "- This IS expected if you are initializing TFBertForSequenceClassification from the checkpoint of a model trained on another task or with another architecture (e.g. initializing a BertForSequenceClassification model from a BertForPreTraining model).\n",
      "- This IS NOT expected if you are initializing TFBertForSequenceClassification from the checkpoint of a model that you expect to be exactly identical (initializing a BertForSequenceClassification model from a BertForSequenceClassification model).\n",
      "Some layers of TFBertForSequenceClassification were not initialized from the model checkpoint at bert-base-uncased and are newly initialized: ['dropout_37', 'classifier']\n",
      "You should probably TRAIN this model on a down-stream task to be able to use it for predictions and inference.\n"
     ]
    }
   ],
   "source": [
    "from transformers import TFBertForSequenceClassification\n",
    "\n",
    "model = TFBertForSequenceClassification.from_pretrained(model_name,config = config1)\n",
    "learning_rate = 2e-5\n",
    "optimizer = tf.keras.optimizers.Adam(learning_rate=learning_rate, epsilon=1e-08)\n",
    "loss = tf.keras.losses.SparseCategoricalCrossentropy(from_logits=True)\n",
    "metric = tf.keras.metrics.SparseCategoricalAccuracy('accuracy')\n",
    "model.compile(optimizer=optimizer, loss=loss, metrics=[metric])"
   ]
  },
  {
   "cell_type": "code",
   "execution_count": null,
   "metadata": {
    "colab": {
     "base_uri": "https://localhost:8080/"
    },
    "id": "xhxXOvuGkP40",
    "outputId": "95590567-2cfb-48b3-f368-dfc545c283be"
   },
   "outputs": [
    {
     "name": "stdout",
     "output_type": "stream",
     "text": [
      "Epoch 1/5\n",
      "1167/1167 [==============================] - 440s 377ms/step - loss: 0.3859 - accuracy: 0.8176 - val_loss: 0.3435 - val_accuracy: 0.8449\n",
      "Epoch 2/5\n",
      "1167/1167 [==============================] - 454s 389ms/step - loss: 0.2544 - accuracy: 0.8892 - val_loss: 0.3112 - val_accuracy: 0.8630\n",
      "Epoch 3/5\n",
      "1167/1167 [==============================] - 455s 390ms/step - loss: 0.1434 - accuracy: 0.9440 - val_loss: 0.3879 - val_accuracy: 0.8628\n",
      "Epoch 4/5\n",
      "1167/1167 [==============================] - 454s 389ms/step - loss: 0.0718 - accuracy: 0.9749 - val_loss: 0.4562 - val_accuracy: 0.8635\n",
      "Epoch 5/5\n",
      "1167/1167 [==============================] - 454s 389ms/step - loss: 0.0420 - accuracy: 0.9853 - val_loss: 0.5676 - val_accuracy: 0.8605\n"
     ]
    }
   ],
   "source": [
    "bert_history = model.fit(train_dataset,epochs=5,verbose=1,validation_data=test_dataset)"
   ]
  }
 ],
 "metadata": {
  "accelerator": "GPU",
  "colab": {
   "collapsed_sections": [],
   "name": "anlp_bert_proj",
   "provenance": []
  },
  "kernelspec": {
   "display_name": "Python 3",
   "language": "python",
   "name": "python3"
  },
  "language_info": {
   "codemirror_mode": {
    "name": "ipython",
    "version": 3
   },
   "file_extension": ".py",
   "mimetype": "text/x-python",
   "name": "python",
   "nbconvert_exporter": "python",
   "pygments_lexer": "ipython3",
   "version": "3.7.4"
  },
  "widgets": {
   "application/vnd.jupyter.widget-state+json": {
    "040391344b7b453dacea0f61f8ddfec7": {
     "model_module": "@jupyter-widgets/base",
     "model_name": "LayoutModel",
     "state": {
      "_model_module": "@jupyter-widgets/base",
      "_model_module_version": "1.2.0",
      "_model_name": "LayoutModel",
      "_view_count": null,
      "_view_module": "@jupyter-widgets/base",
      "_view_module_version": "1.2.0",
      "_view_name": "LayoutView",
      "align_content": null,
      "align_items": null,
      "align_self": null,
      "border": null,
      "bottom": null,
      "display": null,
      "flex": null,
      "flex_flow": null,
      "grid_area": null,
      "grid_auto_columns": null,
      "grid_auto_flow": null,
      "grid_auto_rows": null,
      "grid_column": null,
      "grid_gap": null,
      "grid_row": null,
      "grid_template_areas": null,
      "grid_template_columns": null,
      "grid_template_rows": null,
      "height": null,
      "justify_content": null,
      "justify_items": null,
      "left": null,
      "margin": null,
      "max_height": null,
      "max_width": null,
      "min_height": null,
      "min_width": null,
      "object_fit": null,
      "object_position": null,
      "order": null,
      "overflow": null,
      "overflow_x": null,
      "overflow_y": null,
      "padding": null,
      "right": null,
      "top": null,
      "visibility": null,
      "width": null
     }
    },
    "42e779dfb30a4a89acf2d6321a447e56": {
     "model_module": "@jupyter-widgets/controls",
     "model_name": "DescriptionStyleModel",
     "state": {
      "_model_module": "@jupyter-widgets/controls",
      "_model_module_version": "1.5.0",
      "_model_name": "DescriptionStyleModel",
      "_view_count": null,
      "_view_module": "@jupyter-widgets/base",
      "_view_module_version": "1.2.0",
      "_view_name": "StyleView",
      "description_width": ""
     }
    },
    "540db2412f4a45f2be84f99814e2a967": {
     "model_module": "@jupyter-widgets/controls",
     "model_name": "DescriptionStyleModel",
     "state": {
      "_model_module": "@jupyter-widgets/controls",
      "_model_module_version": "1.5.0",
      "_model_name": "DescriptionStyleModel",
      "_view_count": null,
      "_view_module": "@jupyter-widgets/base",
      "_view_module_version": "1.2.0",
      "_view_name": "StyleView",
      "description_width": ""
     }
    },
    "69315ec3a7ce499f9f335e75e275d144": {
     "model_module": "@jupyter-widgets/base",
     "model_name": "LayoutModel",
     "state": {
      "_model_module": "@jupyter-widgets/base",
      "_model_module_version": "1.2.0",
      "_model_name": "LayoutModel",
      "_view_count": null,
      "_view_module": "@jupyter-widgets/base",
      "_view_module_version": "1.2.0",
      "_view_name": "LayoutView",
      "align_content": null,
      "align_items": null,
      "align_self": null,
      "border": null,
      "bottom": null,
      "display": null,
      "flex": null,
      "flex_flow": null,
      "grid_area": null,
      "grid_auto_columns": null,
      "grid_auto_flow": null,
      "grid_auto_rows": null,
      "grid_column": null,
      "grid_gap": null,
      "grid_row": null,
      "grid_template_areas": null,
      "grid_template_columns": null,
      "grid_template_rows": null,
      "height": null,
      "justify_content": null,
      "justify_items": null,
      "left": null,
      "margin": null,
      "max_height": null,
      "max_width": null,
      "min_height": null,
      "min_width": null,
      "object_fit": null,
      "object_position": null,
      "order": null,
      "overflow": null,
      "overflow_x": null,
      "overflow_y": null,
      "padding": null,
      "right": null,
      "top": null,
      "visibility": null,
      "width": null
     }
    },
    "6d9931e6ecfd452cb5d8160e2673c02d": {
     "model_module": "@jupyter-widgets/controls",
     "model_name": "ProgressStyleModel",
     "state": {
      "_model_module": "@jupyter-widgets/controls",
      "_model_module_version": "1.5.0",
      "_model_name": "ProgressStyleModel",
      "_view_count": null,
      "_view_module": "@jupyter-widgets/base",
      "_view_module_version": "1.2.0",
      "_view_name": "StyleView",
      "bar_color": null,
      "description_width": "initial"
     }
    },
    "74eb86ad8c60449997112e249ddebb99": {
     "model_module": "@jupyter-widgets/controls",
     "model_name": "HTMLModel",
     "state": {
      "_dom_classes": [],
      "_model_module": "@jupyter-widgets/controls",
      "_model_module_version": "1.5.0",
      "_model_name": "HTMLModel",
      "_view_count": null,
      "_view_module": "@jupyter-widgets/controls",
      "_view_module_version": "1.5.0",
      "_view_name": "HTMLView",
      "description": "",
      "description_tooltip": null,
      "layout": "IPY_MODEL_fedf6e9ea42d4de4954fc1484638a0b3",
      "placeholder": "​",
      "style": "IPY_MODEL_42e779dfb30a4a89acf2d6321a447e56",
      "value": " 433/433 [00:00&lt;00:00, 5.48kB/s]"
     }
    },
    "77bb2b7fca3e44cb8f73be6e7fff8bd9": {
     "model_module": "@jupyter-widgets/controls",
     "model_name": "HBoxModel",
     "state": {
      "_dom_classes": [],
      "_model_module": "@jupyter-widgets/controls",
      "_model_module_version": "1.5.0",
      "_model_name": "HBoxModel",
      "_view_count": null,
      "_view_module": "@jupyter-widgets/controls",
      "_view_module_version": "1.5.0",
      "_view_name": "HBoxView",
      "box_style": "",
      "children": [
       "IPY_MODEL_e9595d88c1264b728336b3e2249ed345",
       "IPY_MODEL_bcc4bf24f55b4b6a8d785c3a5551695d"
      ],
      "layout": "IPY_MODEL_8b0411522bb0485e833e15a67381bff1"
     }
    },
    "8ad66c16c91541c48a07d046ccb4058c": {
     "model_module": "@jupyter-widgets/base",
     "model_name": "LayoutModel",
     "state": {
      "_model_module": "@jupyter-widgets/base",
      "_model_module_version": "1.2.0",
      "_model_name": "LayoutModel",
      "_view_count": null,
      "_view_module": "@jupyter-widgets/base",
      "_view_module_version": "1.2.0",
      "_view_name": "LayoutView",
      "align_content": null,
      "align_items": null,
      "align_self": null,
      "border": null,
      "bottom": null,
      "display": null,
      "flex": null,
      "flex_flow": null,
      "grid_area": null,
      "grid_auto_columns": null,
      "grid_auto_flow": null,
      "grid_auto_rows": null,
      "grid_column": null,
      "grid_gap": null,
      "grid_row": null,
      "grid_template_areas": null,
      "grid_template_columns": null,
      "grid_template_rows": null,
      "height": null,
      "justify_content": null,
      "justify_items": null,
      "left": null,
      "margin": null,
      "max_height": null,
      "max_width": null,
      "min_height": null,
      "min_width": null,
      "object_fit": null,
      "object_position": null,
      "order": null,
      "overflow": null,
      "overflow_x": null,
      "overflow_y": null,
      "padding": null,
      "right": null,
      "top": null,
      "visibility": null,
      "width": null
     }
    },
    "8b0411522bb0485e833e15a67381bff1": {
     "model_module": "@jupyter-widgets/base",
     "model_name": "LayoutModel",
     "state": {
      "_model_module": "@jupyter-widgets/base",
      "_model_module_version": "1.2.0",
      "_model_name": "LayoutModel",
      "_view_count": null,
      "_view_module": "@jupyter-widgets/base",
      "_view_module_version": "1.2.0",
      "_view_name": "LayoutView",
      "align_content": null,
      "align_items": null,
      "align_self": null,
      "border": null,
      "bottom": null,
      "display": null,
      "flex": null,
      "flex_flow": null,
      "grid_area": null,
      "grid_auto_columns": null,
      "grid_auto_flow": null,
      "grid_auto_rows": null,
      "grid_column": null,
      "grid_gap": null,
      "grid_row": null,
      "grid_template_areas": null,
      "grid_template_columns": null,
      "grid_template_rows": null,
      "height": null,
      "justify_content": null,
      "justify_items": null,
      "left": null,
      "margin": null,
      "max_height": null,
      "max_width": null,
      "min_height": null,
      "min_width": null,
      "object_fit": null,
      "object_position": null,
      "order": null,
      "overflow": null,
      "overflow_x": null,
      "overflow_y": null,
      "padding": null,
      "right": null,
      "top": null,
      "visibility": null,
      "width": null
     }
    },
    "bcc4bf24f55b4b6a8d785c3a5551695d": {
     "model_module": "@jupyter-widgets/controls",
     "model_name": "HTMLModel",
     "state": {
      "_dom_classes": [],
      "_model_module": "@jupyter-widgets/controls",
      "_model_module_version": "1.5.0",
      "_model_name": "HTMLModel",
      "_view_count": null,
      "_view_module": "@jupyter-widgets/controls",
      "_view_module_version": "1.5.0",
      "_view_name": "HTMLView",
      "description": "",
      "description_tooltip": null,
      "layout": "IPY_MODEL_d78c92ed42784031861d7ed146e36c6a",
      "placeholder": "​",
      "style": "IPY_MODEL_540db2412f4a45f2be84f99814e2a967",
      "value": " 536M/536M [00:07&lt;00:00, 71.9MB/s]"
     }
    },
    "cbfcd88b395845b2838f7a97b08c05ef": {
     "model_module": "@jupyter-widgets/controls",
     "model_name": "FloatProgressModel",
     "state": {
      "_dom_classes": [],
      "_model_module": "@jupyter-widgets/controls",
      "_model_module_version": "1.5.0",
      "_model_name": "FloatProgressModel",
      "_view_count": null,
      "_view_module": "@jupyter-widgets/controls",
      "_view_module_version": "1.5.0",
      "_view_name": "ProgressView",
      "bar_style": "success",
      "description": "Downloading: 100%",
      "description_tooltip": null,
      "layout": "IPY_MODEL_040391344b7b453dacea0f61f8ddfec7",
      "max": 433,
      "min": 0,
      "orientation": "horizontal",
      "style": "IPY_MODEL_e3f9112016b5484ab3ceaf3cb691d588",
      "value": 433
     }
    },
    "d45844d2a3a9472fad3e30efff355440": {
     "model_module": "@jupyter-widgets/controls",
     "model_name": "HBoxModel",
     "state": {
      "_dom_classes": [],
      "_model_module": "@jupyter-widgets/controls",
      "_model_module_version": "1.5.0",
      "_model_name": "HBoxModel",
      "_view_count": null,
      "_view_module": "@jupyter-widgets/controls",
      "_view_module_version": "1.5.0",
      "_view_name": "HBoxView",
      "box_style": "",
      "children": [
       "IPY_MODEL_cbfcd88b395845b2838f7a97b08c05ef",
       "IPY_MODEL_74eb86ad8c60449997112e249ddebb99"
      ],
      "layout": "IPY_MODEL_69315ec3a7ce499f9f335e75e275d144"
     }
    },
    "d78c92ed42784031861d7ed146e36c6a": {
     "model_module": "@jupyter-widgets/base",
     "model_name": "LayoutModel",
     "state": {
      "_model_module": "@jupyter-widgets/base",
      "_model_module_version": "1.2.0",
      "_model_name": "LayoutModel",
      "_view_count": null,
      "_view_module": "@jupyter-widgets/base",
      "_view_module_version": "1.2.0",
      "_view_name": "LayoutView",
      "align_content": null,
      "align_items": null,
      "align_self": null,
      "border": null,
      "bottom": null,
      "display": null,
      "flex": null,
      "flex_flow": null,
      "grid_area": null,
      "grid_auto_columns": null,
      "grid_auto_flow": null,
      "grid_auto_rows": null,
      "grid_column": null,
      "grid_gap": null,
      "grid_row": null,
      "grid_template_areas": null,
      "grid_template_columns": null,
      "grid_template_rows": null,
      "height": null,
      "justify_content": null,
      "justify_items": null,
      "left": null,
      "margin": null,
      "max_height": null,
      "max_width": null,
      "min_height": null,
      "min_width": null,
      "object_fit": null,
      "object_position": null,
      "order": null,
      "overflow": null,
      "overflow_x": null,
      "overflow_y": null,
      "padding": null,
      "right": null,
      "top": null,
      "visibility": null,
      "width": null
     }
    },
    "e3f9112016b5484ab3ceaf3cb691d588": {
     "model_module": "@jupyter-widgets/controls",
     "model_name": "ProgressStyleModel",
     "state": {
      "_model_module": "@jupyter-widgets/controls",
      "_model_module_version": "1.5.0",
      "_model_name": "ProgressStyleModel",
      "_view_count": null,
      "_view_module": "@jupyter-widgets/base",
      "_view_module_version": "1.2.0",
      "_view_name": "StyleView",
      "bar_color": null,
      "description_width": "initial"
     }
    },
    "e9595d88c1264b728336b3e2249ed345": {
     "model_module": "@jupyter-widgets/controls",
     "model_name": "FloatProgressModel",
     "state": {
      "_dom_classes": [],
      "_model_module": "@jupyter-widgets/controls",
      "_model_module_version": "1.5.0",
      "_model_name": "FloatProgressModel",
      "_view_count": null,
      "_view_module": "@jupyter-widgets/controls",
      "_view_module_version": "1.5.0",
      "_view_name": "ProgressView",
      "bar_style": "success",
      "description": "Downloading: 100%",
      "description_tooltip": null,
      "layout": "IPY_MODEL_8ad66c16c91541c48a07d046ccb4058c",
      "max": 536063208,
      "min": 0,
      "orientation": "horizontal",
      "style": "IPY_MODEL_6d9931e6ecfd452cb5d8160e2673c02d",
      "value": 536063208
     }
    },
    "fedf6e9ea42d4de4954fc1484638a0b3": {
     "model_module": "@jupyter-widgets/base",
     "model_name": "LayoutModel",
     "state": {
      "_model_module": "@jupyter-widgets/base",
      "_model_module_version": "1.2.0",
      "_model_name": "LayoutModel",
      "_view_count": null,
      "_view_module": "@jupyter-widgets/base",
      "_view_module_version": "1.2.0",
      "_view_name": "LayoutView",
      "align_content": null,
      "align_items": null,
      "align_self": null,
      "border": null,
      "bottom": null,
      "display": null,
      "flex": null,
      "flex_flow": null,
      "grid_area": null,
      "grid_auto_columns": null,
      "grid_auto_flow": null,
      "grid_auto_rows": null,
      "grid_column": null,
      "grid_gap": null,
      "grid_row": null,
      "grid_template_areas": null,
      "grid_template_columns": null,
      "grid_template_rows": null,
      "height": null,
      "justify_content": null,
      "justify_items": null,
      "left": null,
      "margin": null,
      "max_height": null,
      "max_width": null,
      "min_height": null,
      "min_width": null,
      "object_fit": null,
      "object_position": null,
      "order": null,
      "overflow": null,
      "overflow_x": null,
      "overflow_y": null,
      "padding": null,
      "right": null,
      "top": null,
      "visibility": null,
      "width": null
     }
    }
   }
  }
 },
 "nbformat": 4,
 "nbformat_minor": 1
}
