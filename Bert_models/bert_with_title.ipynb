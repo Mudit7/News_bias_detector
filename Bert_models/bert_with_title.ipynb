{
  "nbformat": 4,
  "nbformat_minor": 0,
  "metadata": {
    "accelerator": "GPU",
    "colab": {
      "name": "anlp_bert_proj_with_title",
      "provenance": [],
      "collapsed_sections": []
    },
    "kernelspec": {
      "display_name": "Python 3",
      "name": "python3"
    },
    "widgets": {
      "application/vnd.jupyter.widget-state+json": {
        "bb698fdd782d44199d39543c0e3056bf": {
          "model_module": "@jupyter-widgets/controls",
          "model_name": "HBoxModel",
          "state": {
            "_view_name": "HBoxView",
            "_dom_classes": [],
            "_model_name": "HBoxModel",
            "_view_module": "@jupyter-widgets/controls",
            "_model_module_version": "1.5.0",
            "_view_count": null,
            "_view_module_version": "1.5.0",
            "box_style": "",
            "layout": "IPY_MODEL_8f268f24c4ca4ef0a280f7501633aedb",
            "_model_module": "@jupyter-widgets/controls",
            "children": [
              "IPY_MODEL_977b56c9d769445d85450ec26707d899",
              "IPY_MODEL_4832cdec6e4041efa568fcc6235e415d"
            ]
          }
        },
        "8f268f24c4ca4ef0a280f7501633aedb": {
          "model_module": "@jupyter-widgets/base",
          "model_name": "LayoutModel",
          "state": {
            "_view_name": "LayoutView",
            "grid_template_rows": null,
            "right": null,
            "justify_content": null,
            "_view_module": "@jupyter-widgets/base",
            "overflow": null,
            "_model_module_version": "1.2.0",
            "_view_count": null,
            "flex_flow": null,
            "width": null,
            "min_width": null,
            "border": null,
            "align_items": null,
            "bottom": null,
            "_model_module": "@jupyter-widgets/base",
            "top": null,
            "grid_column": null,
            "overflow_y": null,
            "overflow_x": null,
            "grid_auto_flow": null,
            "grid_area": null,
            "grid_template_columns": null,
            "flex": null,
            "_model_name": "LayoutModel",
            "justify_items": null,
            "grid_row": null,
            "max_height": null,
            "align_content": null,
            "visibility": null,
            "align_self": null,
            "height": null,
            "min_height": null,
            "padding": null,
            "grid_auto_rows": null,
            "grid_gap": null,
            "max_width": null,
            "order": null,
            "_view_module_version": "1.2.0",
            "grid_template_areas": null,
            "object_position": null,
            "object_fit": null,
            "grid_auto_columns": null,
            "margin": null,
            "display": null,
            "left": null
          }
        },
        "977b56c9d769445d85450ec26707d899": {
          "model_module": "@jupyter-widgets/controls",
          "model_name": "FloatProgressModel",
          "state": {
            "_view_name": "ProgressView",
            "style": "IPY_MODEL_0815527248af42128dffe14eb428c839",
            "_dom_classes": [],
            "description": "Downloading: 100%",
            "_model_name": "FloatProgressModel",
            "bar_style": "success",
            "max": 433,
            "_view_module": "@jupyter-widgets/controls",
            "_model_module_version": "1.5.0",
            "value": 433,
            "_view_count": null,
            "_view_module_version": "1.5.0",
            "orientation": "horizontal",
            "min": 0,
            "description_tooltip": null,
            "_model_module": "@jupyter-widgets/controls",
            "layout": "IPY_MODEL_acdfc945b62746bbb24777f404558eeb"
          }
        },
        "4832cdec6e4041efa568fcc6235e415d": {
          "model_module": "@jupyter-widgets/controls",
          "model_name": "HTMLModel",
          "state": {
            "_view_name": "HTMLView",
            "style": "IPY_MODEL_34b55aa2229041da9b52d2249732b06f",
            "_dom_classes": [],
            "description": "",
            "_model_name": "HTMLModel",
            "placeholder": "​",
            "_view_module": "@jupyter-widgets/controls",
            "_model_module_version": "1.5.0",
            "value": " 433/433 [00:00&lt;00:00, 3.53kB/s]",
            "_view_count": null,
            "_view_module_version": "1.5.0",
            "description_tooltip": null,
            "_model_module": "@jupyter-widgets/controls",
            "layout": "IPY_MODEL_99b66015ec1742f183de95bb311dd484"
          }
        },
        "0815527248af42128dffe14eb428c839": {
          "model_module": "@jupyter-widgets/controls",
          "model_name": "ProgressStyleModel",
          "state": {
            "_view_name": "StyleView",
            "_model_name": "ProgressStyleModel",
            "description_width": "initial",
            "_view_module": "@jupyter-widgets/base",
            "_model_module_version": "1.5.0",
            "_view_count": null,
            "_view_module_version": "1.2.0",
            "bar_color": null,
            "_model_module": "@jupyter-widgets/controls"
          }
        },
        "acdfc945b62746bbb24777f404558eeb": {
          "model_module": "@jupyter-widgets/base",
          "model_name": "LayoutModel",
          "state": {
            "_view_name": "LayoutView",
            "grid_template_rows": null,
            "right": null,
            "justify_content": null,
            "_view_module": "@jupyter-widgets/base",
            "overflow": null,
            "_model_module_version": "1.2.0",
            "_view_count": null,
            "flex_flow": null,
            "width": null,
            "min_width": null,
            "border": null,
            "align_items": null,
            "bottom": null,
            "_model_module": "@jupyter-widgets/base",
            "top": null,
            "grid_column": null,
            "overflow_y": null,
            "overflow_x": null,
            "grid_auto_flow": null,
            "grid_area": null,
            "grid_template_columns": null,
            "flex": null,
            "_model_name": "LayoutModel",
            "justify_items": null,
            "grid_row": null,
            "max_height": null,
            "align_content": null,
            "visibility": null,
            "align_self": null,
            "height": null,
            "min_height": null,
            "padding": null,
            "grid_auto_rows": null,
            "grid_gap": null,
            "max_width": null,
            "order": null,
            "_view_module_version": "1.2.0",
            "grid_template_areas": null,
            "object_position": null,
            "object_fit": null,
            "grid_auto_columns": null,
            "margin": null,
            "display": null,
            "left": null
          }
        },
        "34b55aa2229041da9b52d2249732b06f": {
          "model_module": "@jupyter-widgets/controls",
          "model_name": "DescriptionStyleModel",
          "state": {
            "_view_name": "StyleView",
            "_model_name": "DescriptionStyleModel",
            "description_width": "",
            "_view_module": "@jupyter-widgets/base",
            "_model_module_version": "1.5.0",
            "_view_count": null,
            "_view_module_version": "1.2.0",
            "_model_module": "@jupyter-widgets/controls"
          }
        },
        "99b66015ec1742f183de95bb311dd484": {
          "model_module": "@jupyter-widgets/base",
          "model_name": "LayoutModel",
          "state": {
            "_view_name": "LayoutView",
            "grid_template_rows": null,
            "right": null,
            "justify_content": null,
            "_view_module": "@jupyter-widgets/base",
            "overflow": null,
            "_model_module_version": "1.2.0",
            "_view_count": null,
            "flex_flow": null,
            "width": null,
            "min_width": null,
            "border": null,
            "align_items": null,
            "bottom": null,
            "_model_module": "@jupyter-widgets/base",
            "top": null,
            "grid_column": null,
            "overflow_y": null,
            "overflow_x": null,
            "grid_auto_flow": null,
            "grid_area": null,
            "grid_template_columns": null,
            "flex": null,
            "_model_name": "LayoutModel",
            "justify_items": null,
            "grid_row": null,
            "max_height": null,
            "align_content": null,
            "visibility": null,
            "align_self": null,
            "height": null,
            "min_height": null,
            "padding": null,
            "grid_auto_rows": null,
            "grid_gap": null,
            "max_width": null,
            "order": null,
            "_view_module_version": "1.2.0",
            "grid_template_areas": null,
            "object_position": null,
            "object_fit": null,
            "grid_auto_columns": null,
            "margin": null,
            "display": null,
            "left": null
          }
        },
        "007927ede781435688e7bfafe2aa6e7c": {
          "model_module": "@jupyter-widgets/controls",
          "model_name": "HBoxModel",
          "state": {
            "_view_name": "HBoxView",
            "_dom_classes": [],
            "_model_name": "HBoxModel",
            "_view_module": "@jupyter-widgets/controls",
            "_model_module_version": "1.5.0",
            "_view_count": null,
            "_view_module_version": "1.5.0",
            "box_style": "",
            "layout": "IPY_MODEL_f75f9d13b02d4c9a8563c2eb18f280a0",
            "_model_module": "@jupyter-widgets/controls",
            "children": [
              "IPY_MODEL_8e597048689945f682e6a8fcfec0bacd",
              "IPY_MODEL_3d67ab066702431098e9c19c4f00bd39"
            ]
          }
        },
        "f75f9d13b02d4c9a8563c2eb18f280a0": {
          "model_module": "@jupyter-widgets/base",
          "model_name": "LayoutModel",
          "state": {
            "_view_name": "LayoutView",
            "grid_template_rows": null,
            "right": null,
            "justify_content": null,
            "_view_module": "@jupyter-widgets/base",
            "overflow": null,
            "_model_module_version": "1.2.0",
            "_view_count": null,
            "flex_flow": null,
            "width": null,
            "min_width": null,
            "border": null,
            "align_items": null,
            "bottom": null,
            "_model_module": "@jupyter-widgets/base",
            "top": null,
            "grid_column": null,
            "overflow_y": null,
            "overflow_x": null,
            "grid_auto_flow": null,
            "grid_area": null,
            "grid_template_columns": null,
            "flex": null,
            "_model_name": "LayoutModel",
            "justify_items": null,
            "grid_row": null,
            "max_height": null,
            "align_content": null,
            "visibility": null,
            "align_self": null,
            "height": null,
            "min_height": null,
            "padding": null,
            "grid_auto_rows": null,
            "grid_gap": null,
            "max_width": null,
            "order": null,
            "_view_module_version": "1.2.0",
            "grid_template_areas": null,
            "object_position": null,
            "object_fit": null,
            "grid_auto_columns": null,
            "margin": null,
            "display": null,
            "left": null
          }
        },
        "8e597048689945f682e6a8fcfec0bacd": {
          "model_module": "@jupyter-widgets/controls",
          "model_name": "FloatProgressModel",
          "state": {
            "_view_name": "ProgressView",
            "style": "IPY_MODEL_07efa3d87f584de89694df8ee446f1c5",
            "_dom_classes": [],
            "description": "Downloading: 100%",
            "_model_name": "FloatProgressModel",
            "bar_style": "success",
            "max": 536063208,
            "_view_module": "@jupyter-widgets/controls",
            "_model_module_version": "1.5.0",
            "value": 536063208,
            "_view_count": null,
            "_view_module_version": "1.5.0",
            "orientation": "horizontal",
            "min": 0,
            "description_tooltip": null,
            "_model_module": "@jupyter-widgets/controls",
            "layout": "IPY_MODEL_613e5331188d437988722b8170acee66"
          }
        },
        "3d67ab066702431098e9c19c4f00bd39": {
          "model_module": "@jupyter-widgets/controls",
          "model_name": "HTMLModel",
          "state": {
            "_view_name": "HTMLView",
            "style": "IPY_MODEL_69b40f6bcfea4028beca43f7d9df8526",
            "_dom_classes": [],
            "description": "",
            "_model_name": "HTMLModel",
            "placeholder": "​",
            "_view_module": "@jupyter-widgets/controls",
            "_model_module_version": "1.5.0",
            "value": " 536M/536M [00:07&lt;00:00, 69.7MB/s]",
            "_view_count": null,
            "_view_module_version": "1.5.0",
            "description_tooltip": null,
            "_model_module": "@jupyter-widgets/controls",
            "layout": "IPY_MODEL_dc065a671c9b44c694201616b0e0f552"
          }
        },
        "07efa3d87f584de89694df8ee446f1c5": {
          "model_module": "@jupyter-widgets/controls",
          "model_name": "ProgressStyleModel",
          "state": {
            "_view_name": "StyleView",
            "_model_name": "ProgressStyleModel",
            "description_width": "initial",
            "_view_module": "@jupyter-widgets/base",
            "_model_module_version": "1.5.0",
            "_view_count": null,
            "_view_module_version": "1.2.0",
            "bar_color": null,
            "_model_module": "@jupyter-widgets/controls"
          }
        },
        "613e5331188d437988722b8170acee66": {
          "model_module": "@jupyter-widgets/base",
          "model_name": "LayoutModel",
          "state": {
            "_view_name": "LayoutView",
            "grid_template_rows": null,
            "right": null,
            "justify_content": null,
            "_view_module": "@jupyter-widgets/base",
            "overflow": null,
            "_model_module_version": "1.2.0",
            "_view_count": null,
            "flex_flow": null,
            "width": null,
            "min_width": null,
            "border": null,
            "align_items": null,
            "bottom": null,
            "_model_module": "@jupyter-widgets/base",
            "top": null,
            "grid_column": null,
            "overflow_y": null,
            "overflow_x": null,
            "grid_auto_flow": null,
            "grid_area": null,
            "grid_template_columns": null,
            "flex": null,
            "_model_name": "LayoutModel",
            "justify_items": null,
            "grid_row": null,
            "max_height": null,
            "align_content": null,
            "visibility": null,
            "align_self": null,
            "height": null,
            "min_height": null,
            "padding": null,
            "grid_auto_rows": null,
            "grid_gap": null,
            "max_width": null,
            "order": null,
            "_view_module_version": "1.2.0",
            "grid_template_areas": null,
            "object_position": null,
            "object_fit": null,
            "grid_auto_columns": null,
            "margin": null,
            "display": null,
            "left": null
          }
        },
        "69b40f6bcfea4028beca43f7d9df8526": {
          "model_module": "@jupyter-widgets/controls",
          "model_name": "DescriptionStyleModel",
          "state": {
            "_view_name": "StyleView",
            "_model_name": "DescriptionStyleModel",
            "description_width": "",
            "_view_module": "@jupyter-widgets/base",
            "_model_module_version": "1.5.0",
            "_view_count": null,
            "_view_module_version": "1.2.0",
            "_model_module": "@jupyter-widgets/controls"
          }
        },
        "dc065a671c9b44c694201616b0e0f552": {
          "model_module": "@jupyter-widgets/base",
          "model_name": "LayoutModel",
          "state": {
            "_view_name": "LayoutView",
            "grid_template_rows": null,
            "right": null,
            "justify_content": null,
            "_view_module": "@jupyter-widgets/base",
            "overflow": null,
            "_model_module_version": "1.2.0",
            "_view_count": null,
            "flex_flow": null,
            "width": null,
            "min_width": null,
            "border": null,
            "align_items": null,
            "bottom": null,
            "_model_module": "@jupyter-widgets/base",
            "top": null,
            "grid_column": null,
            "overflow_y": null,
            "overflow_x": null,
            "grid_auto_flow": null,
            "grid_area": null,
            "grid_template_columns": null,
            "flex": null,
            "_model_name": "LayoutModel",
            "justify_items": null,
            "grid_row": null,
            "max_height": null,
            "align_content": null,
            "visibility": null,
            "align_self": null,
            "height": null,
            "min_height": null,
            "padding": null,
            "grid_auto_rows": null,
            "grid_gap": null,
            "max_width": null,
            "order": null,
            "_view_module_version": "1.2.0",
            "grid_template_areas": null,
            "object_position": null,
            "object_fit": null,
            "grid_auto_columns": null,
            "margin": null,
            "display": null,
            "left": null
          }
        }
      }
    }
  },
  "cells": [
    {
      "cell_type": "code",
      "metadata": {
        "id": "yp8dph0D95tG"
      },
      "source": [
        "# '''\n",
        "# Data download\n",
        "# '''\n",
        "# !wget https://zenodo.org/record/1489920/files/articles-training-bypublisher-20181122.zip?download=1\n",
        "\n",
        "# !wget https://zenodo.org/record/1489920/files/ground-truth-training-bypublisher-20181122.zip?download=1\n",
        "\n",
        "# !mv 'articles-training-bypublisher-20181122.zip?download=1' bypublisher.zip\n",
        "# !mv 'ground-truth-training-bypublisher-20181122.zip?download=1' gd.zip\n",
        "# !unzip gd.zip\n",
        "# !unzip bypublisher.zip\n",
        "# !mv 'articles-training-bypublisher-20181122.xml' bypublisher.xml\n",
        "# !mv 'ground-truth-training-bypublisher-20181122.xml' gd.xml\n",
        "# !rm bypublisher.zip\n",
        "# !rm gd.zip"
      ],
      "execution_count": null,
      "outputs": []
    },
    {
      "cell_type": "code",
      "metadata": {
        "id": "tTNmWqjSFVGF"
      },
      "source": [
        "!pip install transformers\n",
        "import pandas as pd\n",
        "import numpy as np\n",
        "import os\n",
        "import sys\n",
        "import xml.sax\n",
        "import xml.parsers.expat\n",
        "import time \n",
        "import pickle\n",
        "import os\n",
        "from sklearn.svm import LinearSVC\n",
        "from sklearn.feature_extraction.text import TfidfVectorizer \n",
        "from collections import OrderedDict\n",
        "import re"
      ],
      "execution_count": null,
      "outputs": []
    },
    {
      "cell_type": "code",
      "metadata": {
        "id": "VS-dH78TulyL"
      },
      "source": [
        "# Data Loader\n",
        "titles = []\n",
        "labels = []\n",
        "text=[]\n",
        "\n",
        "class ParseHandler(xml.sax.handler.ContentHandler):\n",
        "    def __init__(self):\n",
        "        self.text=\"\"\n",
        "    def startElement(self, name, attrs):\n",
        "        self.CurrentData = name\n",
        "        if(self.CurrentData==\"article\"):\n",
        "            labels.append(attrs['hyperpartisan'])\n",
        "\n",
        "\n",
        "parser = xml.sax.make_parser()\n",
        "parser.setFeature(xml.sax.handler.feature_namespaces, 0) \n",
        "Handler = ParseHandler()\n",
        "parser.setContentHandler(Handler)\n",
        "parser.parse(\"gd.xml\")\n",
        "\n",
        "\n",
        "class ParseHandler1(xml.sax.handler.ContentHandler):\n",
        "    def __init__(self):\n",
        "        self.text=\"\"\n",
        "        self.r1=0\n",
        "    def startElement(self, name, attrs):\n",
        "        self.CurrentData = name\n",
        "        if 'title' in attrs.getNames():\n",
        "            titles.append(attrs.getValue('title'))\n",
        "    def endElement(self, name):\n",
        "        if(name==\"article\"):\n",
        "            self.text=clean_text(self.text)\n",
        "            self.text=re.sub(r'([^\\s\\w]|_)+', '', self.text)\n",
        "            self.text=self.text.strip()\n",
        "            text.append(self.text)\n",
        "            self.text=\"\"    \n",
        "    def characters(self, data):\n",
        "        self.text += data\n",
        "\n",
        "def clean_text(text1):\n",
        "    text1 = text1.replace(\".\", \". \")\n",
        "    text1 = text1.replace(\" _\", \" \")\n",
        "    text1 = text1.replace(\"  \", \" \")\n",
        "    text1 = text1.replace(\". . . .\", \"...\")\n",
        "    text1 = text1.replace(\". . .\", \"...\")\n",
        "    return text1\n",
        "\n",
        "parser = xml.sax.make_parser()\n",
        "parser.setFeature(xml.sax.handler.feature_namespaces, 0) \n",
        "Handler = ParseHandler1()\n",
        "parser.setContentHandler(Handler)\n",
        "parser.parse(\"bypublisher.xml\")\n",
        "\n",
        "\n",
        "df_text = pd.DataFrame(text)\n",
        "df_label = pd.DataFrame(labels)\n",
        "df_title = pd.DataFrame(titles)\n",
        "# print(df1)\n",
        "result = pd.concat([df_text, df_title, df_label], axis=1, sort=False) \n",
        "result.columns = ['texts','title','labels']\n",
        "result.to_csv('publisher.csv')\n"
      ],
      "execution_count": 3,
      "outputs": []
    },
    {
      "cell_type": "code",
      "metadata": {
        "id": "sH6m9iONyZoh"
      },
      "source": [
        "# print(result.columns)\n",
        "# !cp publisher.csv drive/My\\ Drive/ANLP_proj/\n",
        "!cp 'drive/My Drive/ANLP_proj/publisher.csv' ."
      ],
      "execution_count": 2,
      "outputs": []
    },
    {
      "cell_type": "code",
      "metadata": {
        "id": "S6pA5tAsb9Cj",
        "colab": {
          "base_uri": "https://localhost:8080/"
        },
        "outputId": "0de09a62-50e2-4136-9718-da2e08b46f39"
      },
      "source": [
        "max_articles = 10000\n",
        "durl = 'drive/My Drive/ANLP_proj/'\n",
        "articles = []\n",
        "labels = []\n",
        "titles = []\n",
        "csv_File = 'publisher.csv'\n",
        "# csv_File = durl + 'publisher.csv'\n",
        "df_itr = pd.read_csv(csv_File,chunksize=100)\n",
        "\n",
        "cur = 0\n",
        "for it in df_itr:\n",
        "  if cur >= max_articles//100:\n",
        "    break\n",
        "  articles.extend(it['texts'])\n",
        "  labels.extend(it['labels'])\n",
        "  titles.extend(it['title'])\n",
        "  # break\n",
        "  cur+=1\n",
        "  # for row in it:\n",
        "    # print(row)\n",
        "    # articles.extend(row.iloc[cur]['texts'])\n",
        "    # labels.extend(row.iloc[cur]['labels'])\n",
        "labels = np.array(labels,dtype = np.uint8)\n",
        "print('number of samples = ',len(labels),len(titles))"
      ],
      "execution_count": 11,
      "outputs": [
        {
          "output_type": "stream",
          "text": [
            "number of samples =  10000 10000\n"
          ],
          "name": "stdout"
        }
      ]
    },
    {
      "cell_type": "code",
      "metadata": {
        "id": "j4PPjTYMmomt"
      },
      "source": [
        "# df = pd.read_csv('article.csv')\n",
        "# articles = df['texts'].to_numpy()\n",
        "# labels = df['labels'].to_numpy()\n",
        "# print(articles.shape)\n",
        "print(titles[0])\n",
        "print('********************')\n",
        "print(articles[0])"
      ],
      "execution_count": null,
      "outputs": []
    },
    {
      "cell_type": "code",
      "metadata": {
        "id": "ZbAZqEQ0g7iI"
      },
      "source": [
        "import tensorflow as tf\n",
        "from transformers import BertTokenizer\n",
        "tokenizer=BertTokenizer.from_pretrained('bert-base-uncased')"
      ],
      "execution_count": 5,
      "outputs": []
    },
    {
      "cell_type": "code",
      "metadata": {
        "id": "QPP11ig1bJ0z"
      },
      "source": [
        "max_length_test = 50\n",
        "def map_example_to_dict(input_ids_list_content, attention_mask_list_content, token_type_ids_list_content, \n",
        "                        input_ids_list_title, token_type_ids_list_title, attention_mask_list_title, label):\n",
        "  return ({\n",
        "      \"input_ids\": input_ids_list_content,\n",
        "      \"token_type_ids\": attention_mask_list_content,\n",
        "      \"attention_mask\": token_type_ids_list_content,\n",
        "  },\n",
        "  {\n",
        "      \"input_ids\": input_ids_list_title,\n",
        "      \"token_type_ids\": token_type_ids_list_title,\n",
        "      \"attention_mask\": attention_mask_list_title,\n",
        "  }, label)\n",
        "\n",
        "def encode_examples(content,titles,labels):\n",
        "  # prepare list, so that we can build up final TensorFlow dataset from slices.\n",
        "  input_ids_list_content = []\n",
        "  token_type_ids_list_content = []\n",
        "  attention_mask_list_content = []\n",
        "\n",
        "  input_ids_list_title = []\n",
        "  token_type_ids_list_title = []\n",
        "  attention_mask_list_title = []\n",
        "\n",
        "  label_list = []\n",
        "  for article, title, label in zip(content, titles, labels):\n",
        "    if not (isinstance(article, str) and isinstance(title, str)) :\n",
        "      continue\n",
        "    bert_input_content = tokenizer.encode_plus(article,\n",
        "                                      truncation=True,           \n",
        "                                      add_special_tokens = True, # add [CLS], [SEP]\n",
        "                                      max_length = max_length_test, # max length of the text that can go to BERT\n",
        "                                      padding='max_length', # add [PAD] tokens\n",
        "                                      return_attention_mask = True, # add attention mask to not focus on pad token\n",
        "                                      )\n",
        "\n",
        "\n",
        "    bert_input_title = tokenizer.encode_plus(title,\n",
        "                                      truncation=True,           \n",
        "                                      add_special_tokens = True, # add [CLS], [SEP]\n",
        "                                      max_length = max_length_test, # max length of the text that can go to BERT\n",
        "                                      padding='max_length', # add [PAD] tokens\n",
        "                                      return_attention_mask = True, # add attention mask to not focus on pad token\n",
        "                                      )\n",
        "\n",
        "    input_ids_list_content.append(bert_input_content['input_ids'])\n",
        "    token_type_ids_list_content.append(bert_input_content['token_type_ids'])\n",
        "    attention_mask_list_content.append(bert_input_content['attention_mask'])\n",
        "\n",
        "    input_ids_list_title.append(bert_input_title['input_ids'])\n",
        "    token_type_ids_list_title.append(bert_input_title['token_type_ids'])\n",
        "    attention_mask_list_title.append(bert_input_title['attention_mask'])\n",
        "\n",
        "    label_list.append([label])\n",
        "  return tf.data.Dataset.from_tensor_slices((input_ids_list_content, attention_mask_list_content, token_type_ids_list_content, \n",
        "                                             input_ids_list_title, token_type_ids_list_title, attention_mask_list_title, label_list)\n",
        "                                            ).map(map_example_to_dict)\n",
        "\n",
        "def convert_to_tfdataset(articles,titles,labels,batch_size = 5):\n",
        "  dataset = encode_examples(articles,titles,labels)\n",
        "  dataset = dataset.shuffle(dataset.__len__().numpy()).batch(batch_size)\n",
        "  return dataset\n"
      ],
      "execution_count": 6,
      "outputs": []
    },
    {
      "cell_type": "code",
      "metadata": {
        "id": "9qe7D_ZTxcbj"
      },
      "source": [
        "# split\n",
        "from sklearn.model_selection import train_test_split\n",
        "articles_train, articles_test, titles_train, titles_test, labels_train, labels_test = train_test_split( articles, titles, labels, test_size=0.3, random_state=21)\n",
        "train_dataset = convert_to_tfdataset(articles_train,titles_train,labels_train,batch_size = 6)\n",
        "test_dataset = convert_to_tfdataset(articles_test,titles_test,labels_test,batch_size = 6)"
      ],
      "execution_count": 12,
      "outputs": []
    },
    {
      "cell_type": "code",
      "metadata": {
        "id": "yuWB0QzoYPaX"
      },
      "source": [
        ""
      ],
      "execution_count": null,
      "outputs": []
    },
    {
      "cell_type": "code",
      "metadata": {
        "id": "-J47w96kQCjN"
      },
      "source": [
        "for input in train_dataset:\n",
        "  print(input)\n",
        "  break"
      ],
      "execution_count": null,
      "outputs": []
    },
    {
      "cell_type": "code",
      "metadata": {
        "id": "IXAFoc27kDCq",
        "colab": {
          "base_uri": "https://localhost:8080/",
          "height": 220,
          "referenced_widgets": [
            "bb698fdd782d44199d39543c0e3056bf",
            "8f268f24c4ca4ef0a280f7501633aedb",
            "977b56c9d769445d85450ec26707d899",
            "4832cdec6e4041efa568fcc6235e415d",
            "0815527248af42128dffe14eb428c839",
            "acdfc945b62746bbb24777f404558eeb",
            "34b55aa2229041da9b52d2249732b06f",
            "99b66015ec1742f183de95bb311dd484",
            "007927ede781435688e7bfafe2aa6e7c",
            "f75f9d13b02d4c9a8563c2eb18f280a0",
            "8e597048689945f682e6a8fcfec0bacd",
            "3d67ab066702431098e9c19c4f00bd39",
            "07efa3d87f584de89694df8ee446f1c5",
            "613e5331188d437988722b8170acee66",
            "69b40f6bcfea4028beca43f7d9df8526",
            "dc065a671c9b44c694201616b0e0f552"
          ]
        },
        "outputId": "cdd026db-4178-49e8-a5ee-dda49fea08b2"
      },
      "source": [
        "from transformers import BertConfig\n",
        "from transformers import TFBertModel\n",
        "\n",
        "model_name = 'bert-base-uncased'\n",
        "config1 = BertConfig.from_pretrained(model_name)\n",
        "config1.num_labels=2\n",
        "\n",
        "model_name = 'bert-base-uncased'\n",
        "bert_model = TFBertModel.from_pretrained(model_name,config = config1)\n",
        "learning_rate = 2e-5\n",
        "optimizer = tf.keras.optimizers.Adam(learning_rate=learning_rate, epsilon=1e-08)\n",
        "loss = tf.keras.losses.SparseCategoricalCrossentropy(from_logits=True)\n",
        "metric = tf.keras.metrics.SparseCategoricalAccuracy('accuracy')\n",
        "bert_model.compile(optimizer=optimizer, loss=loss, metrics=[metric])"
      ],
      "execution_count": 8,
      "outputs": [
        {
          "output_type": "display_data",
          "data": {
            "application/vnd.jupyter.widget-view+json": {
              "model_id": "bb698fdd782d44199d39543c0e3056bf",
              "version_minor": 0,
              "version_major": 2
            },
            "text/plain": [
              "HBox(children=(FloatProgress(value=0.0, description='Downloading', max=433.0, style=ProgressStyle(description_…"
            ]
          },
          "metadata": {
            "tags": []
          }
        },
        {
          "output_type": "stream",
          "text": [
            "\n"
          ],
          "name": "stdout"
        },
        {
          "output_type": "display_data",
          "data": {
            "application/vnd.jupyter.widget-view+json": {
              "model_id": "007927ede781435688e7bfafe2aa6e7c",
              "version_minor": 0,
              "version_major": 2
            },
            "text/plain": [
              "HBox(children=(FloatProgress(value=0.0, description='Downloading', max=536063208.0, style=ProgressStyle(descri…"
            ]
          },
          "metadata": {
            "tags": []
          }
        },
        {
          "output_type": "stream",
          "text": [
            "\n"
          ],
          "name": "stdout"
        },
        {
          "output_type": "stream",
          "text": [
            "Some layers from the model checkpoint at bert-base-uncased were not used when initializing TFBertModel: ['mlm___cls', 'nsp___cls']\n",
            "- This IS expected if you are initializing TFBertModel from the checkpoint of a model trained on another task or with another architecture (e.g. initializing a BertForSequenceClassification model from a BertForPreTraining model).\n",
            "- This IS NOT expected if you are initializing TFBertModel from the checkpoint of a model that you expect to be exactly identical (initializing a BertForSequenceClassification model from a BertForSequenceClassification model).\n",
            "All the layers of TFBertModel were initialized from the model checkpoint at bert-base-uncased.\n",
            "If your task is similar to the task the model of the checkpoint was trained on, you can already use TFBertModel for predictions without further training.\n"
          ],
          "name": "stderr"
        }
      ]
    },
    {
      "cell_type": "code",
      "metadata": {
        "id": "xhxXOvuGkP40"
      },
      "source": [
        "# bert_history = bert_model.fit(train_dataset,epochs=5,verbose=1,validation_data=test_dataset)\n",
        "# print(tokenizer(\"hello there\",return_tensors=\"tf\"))\n"
      ],
      "execution_count": null,
      "outputs": []
    },
    {
      "cell_type": "code",
      "metadata": {
        "id": "tBkIyY1RGjJ-",
        "colab": {
          "background_save": true
        }
      },
      "source": [
        "# class MyClassifier(tf.keras.Model):\n",
        "#   def __init__(self,N_LABELS):\n",
        "#     super(MyClassifier, self).__init__()\n",
        "#     self.bert = bert_model\n",
        "#     self.fc = tf.keras.layers.Dense(N_LABELS,activation='tanh',name='my_fc_layer')\n",
        "\n",
        "#   def call(self, input):\n",
        "#     # mask = tf.sequence_mask(inputs[1], tf.shape(inputs[0])[1])\n",
        "#     bert_embeddings = self.bert(input)\n",
        "#     output = self.fc(bert_embeddings[1]) #only last hidden layer\n",
        "#     return output\n",
        "\n",
        "# class Trainer:\n",
        "#   def __init__(self,N_LABELS):\n",
        "#     super(Trainer, self).__init__()\n",
        "#     self.model = MyClassifier(N_LABELS)\n",
        "\n",
        "#   def lossfn(self, predictions, labels):      \n",
        "#     scce = tf.keras.losses.SparseCategoricalCrossentropy()\n",
        "#     loss = scce(labels,predictions)\n",
        "#     return loss\n",
        "\n",
        "#   def train(self,dataset,epochs):\n",
        "#     optimizer = tf.keras.optimizers.SGD(learning_rate= 1e-3)\n",
        "#     # logdir=\"logs\"\n",
        "#     # train_writer = tf.summary.create_file_writer(logdir+'/train')\n",
        "#     # test_writer = tf.summary.create_file_writer(logdir+'/test')\n",
        "#     for epoch in range(epochs):\n",
        "#       losses = []\n",
        "#       for batch,(inputs, labels) in enumerate(dataset):\n",
        "#         with tf.GradientTape() as tape:\n",
        "#           predictions = self.model(inputs)\n",
        "#           loss_value = self.lossfn(predictions,labels)\n",
        "#         losses.append(loss_value)\n",
        "#         tvars = self.model.trainable_variables\n",
        "#         # tvars = [v for v in tvars if 'bert' not in v.name]\n",
        "#         # print('this',tvars)\n",
        "#         grads = tape.gradient(loss_value, tvars)\n",
        "#         optimizer.apply_gradients(zip(grads, tvars))\n",
        "#         # predictedLabels, score = self.decode(emission, transition_params, seqLength)\n",
        "#       print(np.mean(losses))\n",
        "\n",
        "# n_labels = 2\n",
        "# classifier = Trainer(n_labels)\n",
        "# classifier.train(train_dataset,epochs = 5)"
      ],
      "execution_count": null,
      "outputs": []
    },
    {
      "cell_type": "code",
      "metadata": {
        "id": "qtpokg3gP5sm"
      },
      "source": [
        "class MyClassifier(tf.keras.Model):\n",
        "  def __init__(self,N_LABELS):\n",
        "    super(MyClassifier, self).__init__()\n",
        "    self.bert = bert_model\n",
        "    self.fc1 = tf.keras.layers.Dense(32,activation='tanh',name='my_fc_layer1')\n",
        "    self.fc2 = tf.keras.layers.Dense(N_LABELS,activation='tanh',name='my_fc_layer2')\n",
        "\n",
        "  def call(self, content, title):\n",
        "    # mask = tf.sequence_mask(inputs[1], tf.shape(inputs[0])[1])\n",
        "    # content, title = inputs\n",
        "    bert_embedding_content = self.bert(content)\n",
        "    bert_embedding_title = self.bert(title)\n",
        "    # print(bert_embedding_content)\n",
        "    # print('************************')\n",
        "    # print(bert_embedding_title)\n",
        "    concatenated = tf.concat([bert_embedding_content[1],bert_embedding_title[1]], axis = -1 )\n",
        "    output = self.fc1( self.fc2(concatenated) ) #only last hidden layer\n",
        "    return output\n",
        "\n",
        "class Trainer:\n",
        "  def __init__(self,N_LABELS):\n",
        "    super(Trainer, self).__init__()\n",
        "    self.model = MyClassifier(N_LABELS)\n",
        "    self.accuracy_metric = tf.keras.metrics.Accuracy()\n",
        "\n",
        "  def lossfn(self, predictions, labels):      \n",
        "    scce = tf.keras.losses.SparseCategoricalCrossentropy()\n",
        "    loss = scce(labels,predictions)\n",
        "    return loss\n",
        "\n",
        "  def train(self,dataset,epochs):\n",
        "    optimizer = tf.keras.optimizers.SGD(learning_rate= 1e-3)\n",
        "    # logdir=\"logs\"\n",
        "    # train_writer = tf.summary.create_file_writer(logdir+'/train')\n",
        "    # test_writer = tf.summary.create_file_writer(logdir+'/test')\n",
        "    for epoch in range(epochs):\n",
        "      losses = []\n",
        "      for batch,(contents, titles, labels) in enumerate(dataset):\n",
        "        with tf.GradientTape() as tape:\n",
        "          predictions = self.model(contents, titles)\n",
        "          loss_value = self.lossfn(predictions,labels)\n",
        "        losses.append(loss_value)\n",
        "        tvars = self.model.trainable_variables\n",
        "        tvars = [v for v in tvars if 'bert' not in v.name]\n",
        "        # print('this',tvars)\n",
        "        grads = tape.gradient(loss_value, tvars)\n",
        "        optimizer.apply_gradients(zip(grads, tvars))\n",
        "        # predictedLabels, score = self.decode(emission, transition_params, seqLength)\n",
        "      print(np.mean(losses))\n",
        "\n",
        "  def evaluate(self,dataset):\n",
        "    for batch,(contents, titles, labels) in enumerate(dataset):\n",
        "      \n",
        "      predictions = self.model(contents, titles)\n",
        "      predictions = np.argmax(predictions,axis=1)\n",
        "      self.accuracy_metric.update_state(predictions, labels)\n",
        "      # print(predictions)\n",
        "      print(self.accuracy_metric.result().numpy())\n",
        "\n",
        "\n",
        "n_labels = 2\n",
        "classifier = Trainer(n_labels)\n",
        "classifier.train(train_dataset_publisher,epochs = 3)\n",
        "classifier.train(train_dataset_article,epochs = 3)\n",
        "classifier.evaluate(test_dataset_publisher)\n",
        "classifier.evaluate(test_dataset_article)"
      ],
      "execution_count": null,
      "outputs": []
    },
    {
      "cell_type": "code",
      "metadata": {
        "id": "4Ukmp04hXas8"
      },
      "source": [
        ""
      ],
      "execution_count": null,
      "outputs": []
    }
  ]
}