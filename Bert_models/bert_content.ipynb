{
  "nbformat": 4,
  "nbformat_minor": 0,
  "metadata": {
    "colab": {
      "name": "anlp_bert_proj",
      "provenance": [],
      "collapsed_sections": []
    },
    "kernelspec": {
      "name": "python3",
      "display_name": "Python 3"
    },
    "widgets": {
      "application/vnd.jupyter.widget-state+json": {
        "d63b2f6ee0f149d0af2094d86384d49b": {
          "model_module": "@jupyter-widgets/controls",
          "model_name": "HBoxModel",
          "state": {
            "_view_name": "HBoxView",
            "_dom_classes": [],
            "_model_name": "HBoxModel",
            "_view_module": "@jupyter-widgets/controls",
            "_model_module_version": "1.5.0",
            "_view_count": null,
            "_view_module_version": "1.5.0",
            "box_style": "",
            "layout": "IPY_MODEL_a32f50f4db3a489b9dac01b3de21f7e6",
            "_model_module": "@jupyter-widgets/controls",
            "children": [
              "IPY_MODEL_079ecfedbda44b6696cc20a9609cd74f",
              "IPY_MODEL_00125ebee6f946718c11b17f42e1f07f"
            ]
          }
        },
        "a32f50f4db3a489b9dac01b3de21f7e6": {
          "model_module": "@jupyter-widgets/base",
          "model_name": "LayoutModel",
          "state": {
            "_view_name": "LayoutView",
            "grid_template_rows": null,
            "right": null,
            "justify_content": null,
            "_view_module": "@jupyter-widgets/base",
            "overflow": null,
            "_model_module_version": "1.2.0",
            "_view_count": null,
            "flex_flow": null,
            "width": null,
            "min_width": null,
            "border": null,
            "align_items": null,
            "bottom": null,
            "_model_module": "@jupyter-widgets/base",
            "top": null,
            "grid_column": null,
            "overflow_y": null,
            "overflow_x": null,
            "grid_auto_flow": null,
            "grid_area": null,
            "grid_template_columns": null,
            "flex": null,
            "_model_name": "LayoutModel",
            "justify_items": null,
            "grid_row": null,
            "max_height": null,
            "align_content": null,
            "visibility": null,
            "align_self": null,
            "height": null,
            "min_height": null,
            "padding": null,
            "grid_auto_rows": null,
            "grid_gap": null,
            "max_width": null,
            "order": null,
            "_view_module_version": "1.2.0",
            "grid_template_areas": null,
            "object_position": null,
            "object_fit": null,
            "grid_auto_columns": null,
            "margin": null,
            "display": null,
            "left": null
          }
        },
        "079ecfedbda44b6696cc20a9609cd74f": {
          "model_module": "@jupyter-widgets/controls",
          "model_name": "FloatProgressModel",
          "state": {
            "_view_name": "ProgressView",
            "style": "IPY_MODEL_842085c366a74b69a2842ff42aa0baa8",
            "_dom_classes": [],
            "description": "Downloading: 100%",
            "_model_name": "FloatProgressModel",
            "bar_style": "success",
            "max": 433,
            "_view_module": "@jupyter-widgets/controls",
            "_model_module_version": "1.5.0",
            "value": 433,
            "_view_count": null,
            "_view_module_version": "1.5.0",
            "orientation": "horizontal",
            "min": 0,
            "description_tooltip": null,
            "_model_module": "@jupyter-widgets/controls",
            "layout": "IPY_MODEL_a2b8d04c1ecc48fca12d425ed21f4f82"
          }
        },
        "00125ebee6f946718c11b17f42e1f07f": {
          "model_module": "@jupyter-widgets/controls",
          "model_name": "HTMLModel",
          "state": {
            "_view_name": "HTMLView",
            "style": "IPY_MODEL_d288b073faf74517940983331d0dbe0c",
            "_dom_classes": [],
            "description": "",
            "_model_name": "HTMLModel",
            "placeholder": "​",
            "_view_module": "@jupyter-widgets/controls",
            "_model_module_version": "1.5.0",
            "value": " 433/433 [00:21&lt;00:00, 20.2B/s]",
            "_view_count": null,
            "_view_module_version": "1.5.0",
            "description_tooltip": null,
            "_model_module": "@jupyter-widgets/controls",
            "layout": "IPY_MODEL_be87999276054b178236b6f15a402262"
          }
        },
        "842085c366a74b69a2842ff42aa0baa8": {
          "model_module": "@jupyter-widgets/controls",
          "model_name": "ProgressStyleModel",
          "state": {
            "_view_name": "StyleView",
            "_model_name": "ProgressStyleModel",
            "description_width": "initial",
            "_view_module": "@jupyter-widgets/base",
            "_model_module_version": "1.5.0",
            "_view_count": null,
            "_view_module_version": "1.2.0",
            "bar_color": null,
            "_model_module": "@jupyter-widgets/controls"
          }
        },
        "a2b8d04c1ecc48fca12d425ed21f4f82": {
          "model_module": "@jupyter-widgets/base",
          "model_name": "LayoutModel",
          "state": {
            "_view_name": "LayoutView",
            "grid_template_rows": null,
            "right": null,
            "justify_content": null,
            "_view_module": "@jupyter-widgets/base",
            "overflow": null,
            "_model_module_version": "1.2.0",
            "_view_count": null,
            "flex_flow": null,
            "width": null,
            "min_width": null,
            "border": null,
            "align_items": null,
            "bottom": null,
            "_model_module": "@jupyter-widgets/base",
            "top": null,
            "grid_column": null,
            "overflow_y": null,
            "overflow_x": null,
            "grid_auto_flow": null,
            "grid_area": null,
            "grid_template_columns": null,
            "flex": null,
            "_model_name": "LayoutModel",
            "justify_items": null,
            "grid_row": null,
            "max_height": null,
            "align_content": null,
            "visibility": null,
            "align_self": null,
            "height": null,
            "min_height": null,
            "padding": null,
            "grid_auto_rows": null,
            "grid_gap": null,
            "max_width": null,
            "order": null,
            "_view_module_version": "1.2.0",
            "grid_template_areas": null,
            "object_position": null,
            "object_fit": null,
            "grid_auto_columns": null,
            "margin": null,
            "display": null,
            "left": null
          }
        },
        "d288b073faf74517940983331d0dbe0c": {
          "model_module": "@jupyter-widgets/controls",
          "model_name": "DescriptionStyleModel",
          "state": {
            "_view_name": "StyleView",
            "_model_name": "DescriptionStyleModel",
            "description_width": "",
            "_view_module": "@jupyter-widgets/base",
            "_model_module_version": "1.5.0",
            "_view_count": null,
            "_view_module_version": "1.2.0",
            "_model_module": "@jupyter-widgets/controls"
          }
        },
        "be87999276054b178236b6f15a402262": {
          "model_module": "@jupyter-widgets/base",
          "model_name": "LayoutModel",
          "state": {
            "_view_name": "LayoutView",
            "grid_template_rows": null,
            "right": null,
            "justify_content": null,
            "_view_module": "@jupyter-widgets/base",
            "overflow": null,
            "_model_module_version": "1.2.0",
            "_view_count": null,
            "flex_flow": null,
            "width": null,
            "min_width": null,
            "border": null,
            "align_items": null,
            "bottom": null,
            "_model_module": "@jupyter-widgets/base",
            "top": null,
            "grid_column": null,
            "overflow_y": null,
            "overflow_x": null,
            "grid_auto_flow": null,
            "grid_area": null,
            "grid_template_columns": null,
            "flex": null,
            "_model_name": "LayoutModel",
            "justify_items": null,
            "grid_row": null,
            "max_height": null,
            "align_content": null,
            "visibility": null,
            "align_self": null,
            "height": null,
            "min_height": null,
            "padding": null,
            "grid_auto_rows": null,
            "grid_gap": null,
            "max_width": null,
            "order": null,
            "_view_module_version": "1.2.0",
            "grid_template_areas": null,
            "object_position": null,
            "object_fit": null,
            "grid_auto_columns": null,
            "margin": null,
            "display": null,
            "left": null
          }
        },
        "e37267dee0aa4c1d9099f741bd92937d": {
          "model_module": "@jupyter-widgets/controls",
          "model_name": "HBoxModel",
          "state": {
            "_view_name": "HBoxView",
            "_dom_classes": [],
            "_model_name": "HBoxModel",
            "_view_module": "@jupyter-widgets/controls",
            "_model_module_version": "1.5.0",
            "_view_count": null,
            "_view_module_version": "1.5.0",
            "box_style": "",
            "layout": "IPY_MODEL_2394b8d754894b9d9bdee04ee098171b",
            "_model_module": "@jupyter-widgets/controls",
            "children": [
              "IPY_MODEL_d8176180587b4d1da2914bdcf7b6f4f6",
              "IPY_MODEL_fff57df688d240df8551e1e1d0293ea0"
            ]
          }
        },
        "2394b8d754894b9d9bdee04ee098171b": {
          "model_module": "@jupyter-widgets/base",
          "model_name": "LayoutModel",
          "state": {
            "_view_name": "LayoutView",
            "grid_template_rows": null,
            "right": null,
            "justify_content": null,
            "_view_module": "@jupyter-widgets/base",
            "overflow": null,
            "_model_module_version": "1.2.0",
            "_view_count": null,
            "flex_flow": null,
            "width": null,
            "min_width": null,
            "border": null,
            "align_items": null,
            "bottom": null,
            "_model_module": "@jupyter-widgets/base",
            "top": null,
            "grid_column": null,
            "overflow_y": null,
            "overflow_x": null,
            "grid_auto_flow": null,
            "grid_area": null,
            "grid_template_columns": null,
            "flex": null,
            "_model_name": "LayoutModel",
            "justify_items": null,
            "grid_row": null,
            "max_height": null,
            "align_content": null,
            "visibility": null,
            "align_self": null,
            "height": null,
            "min_height": null,
            "padding": null,
            "grid_auto_rows": null,
            "grid_gap": null,
            "max_width": null,
            "order": null,
            "_view_module_version": "1.2.0",
            "grid_template_areas": null,
            "object_position": null,
            "object_fit": null,
            "grid_auto_columns": null,
            "margin": null,
            "display": null,
            "left": null
          }
        },
        "d8176180587b4d1da2914bdcf7b6f4f6": {
          "model_module": "@jupyter-widgets/controls",
          "model_name": "FloatProgressModel",
          "state": {
            "_view_name": "ProgressView",
            "style": "IPY_MODEL_c8dfd5e5258947d7a739eab447d6747e",
            "_dom_classes": [],
            "description": "Downloading: 100%",
            "_model_name": "FloatProgressModel",
            "bar_style": "success",
            "max": 536063208,
            "_view_module": "@jupyter-widgets/controls",
            "_model_module_version": "1.5.0",
            "value": 536063208,
            "_view_count": null,
            "_view_module_version": "1.5.0",
            "orientation": "horizontal",
            "min": 0,
            "description_tooltip": null,
            "_model_module": "@jupyter-widgets/controls",
            "layout": "IPY_MODEL_038c2009504b43408b2c97a18c467ec8"
          }
        },
        "fff57df688d240df8551e1e1d0293ea0": {
          "model_module": "@jupyter-widgets/controls",
          "model_name": "HTMLModel",
          "state": {
            "_view_name": "HTMLView",
            "style": "IPY_MODEL_921fd1fe968e4f58ac3e6a3fad6dab11",
            "_dom_classes": [],
            "description": "",
            "_model_name": "HTMLModel",
            "placeholder": "​",
            "_view_module": "@jupyter-widgets/controls",
            "_model_module_version": "1.5.0",
            "value": " 536M/536M [00:08&lt;00:00, 65.1MB/s]",
            "_view_count": null,
            "_view_module_version": "1.5.0",
            "description_tooltip": null,
            "_model_module": "@jupyter-widgets/controls",
            "layout": "IPY_MODEL_579033791764423493224296ddc97c16"
          }
        },
        "c8dfd5e5258947d7a739eab447d6747e": {
          "model_module": "@jupyter-widgets/controls",
          "model_name": "ProgressStyleModel",
          "state": {
            "_view_name": "StyleView",
            "_model_name": "ProgressStyleModel",
            "description_width": "initial",
            "_view_module": "@jupyter-widgets/base",
            "_model_module_version": "1.5.0",
            "_view_count": null,
            "_view_module_version": "1.2.0",
            "bar_color": null,
            "_model_module": "@jupyter-widgets/controls"
          }
        },
        "038c2009504b43408b2c97a18c467ec8": {
          "model_module": "@jupyter-widgets/base",
          "model_name": "LayoutModel",
          "state": {
            "_view_name": "LayoutView",
            "grid_template_rows": null,
            "right": null,
            "justify_content": null,
            "_view_module": "@jupyter-widgets/base",
            "overflow": null,
            "_model_module_version": "1.2.0",
            "_view_count": null,
            "flex_flow": null,
            "width": null,
            "min_width": null,
            "border": null,
            "align_items": null,
            "bottom": null,
            "_model_module": "@jupyter-widgets/base",
            "top": null,
            "grid_column": null,
            "overflow_y": null,
            "overflow_x": null,
            "grid_auto_flow": null,
            "grid_area": null,
            "grid_template_columns": null,
            "flex": null,
            "_model_name": "LayoutModel",
            "justify_items": null,
            "grid_row": null,
            "max_height": null,
            "align_content": null,
            "visibility": null,
            "align_self": null,
            "height": null,
            "min_height": null,
            "padding": null,
            "grid_auto_rows": null,
            "grid_gap": null,
            "max_width": null,
            "order": null,
            "_view_module_version": "1.2.0",
            "grid_template_areas": null,
            "object_position": null,
            "object_fit": null,
            "grid_auto_columns": null,
            "margin": null,
            "display": null,
            "left": null
          }
        },
        "921fd1fe968e4f58ac3e6a3fad6dab11": {
          "model_module": "@jupyter-widgets/controls",
          "model_name": "DescriptionStyleModel",
          "state": {
            "_view_name": "StyleView",
            "_model_name": "DescriptionStyleModel",
            "description_width": "",
            "_view_module": "@jupyter-widgets/base",
            "_model_module_version": "1.5.0",
            "_view_count": null,
            "_view_module_version": "1.2.0",
            "_model_module": "@jupyter-widgets/controls"
          }
        },
        "579033791764423493224296ddc97c16": {
          "model_module": "@jupyter-widgets/base",
          "model_name": "LayoutModel",
          "state": {
            "_view_name": "LayoutView",
            "grid_template_rows": null,
            "right": null,
            "justify_content": null,
            "_view_module": "@jupyter-widgets/base",
            "overflow": null,
            "_model_module_version": "1.2.0",
            "_view_count": null,
            "flex_flow": null,
            "width": null,
            "min_width": null,
            "border": null,
            "align_items": null,
            "bottom": null,
            "_model_module": "@jupyter-widgets/base",
            "top": null,
            "grid_column": null,
            "overflow_y": null,
            "overflow_x": null,
            "grid_auto_flow": null,
            "grid_area": null,
            "grid_template_columns": null,
            "flex": null,
            "_model_name": "LayoutModel",
            "justify_items": null,
            "grid_row": null,
            "max_height": null,
            "align_content": null,
            "visibility": null,
            "align_self": null,
            "height": null,
            "min_height": null,
            "padding": null,
            "grid_auto_rows": null,
            "grid_gap": null,
            "max_width": null,
            "order": null,
            "_view_module_version": "1.2.0",
            "grid_template_areas": null,
            "object_position": null,
            "object_fit": null,
            "grid_auto_columns": null,
            "margin": null,
            "display": null,
            "left": null
          }
        }
      }
    },
    "accelerator": "GPU"
  },
  "cells": [
    {
      "cell_type": "code",
      "metadata": {
        "colab": {
          "base_uri": "https://localhost:8080/"
        },
        "id": "JZgbMVGQOSmD",
        "outputId": "8bcf038b-077b-45f2-81b9-20b2a9d36129"
      },
      "source": [
        "#Data download\n",
        "\n",
        "!wget https://zenodo.org/record/1489920/files/articles-training-bypublisher-20181122.zip?download=1\n",
        "\n",
        "!wget https://zenodo.org/record/1489920/files/ground-truth-training-bypublisher-20181122.zip?download=1\n",
        "\n",
        "!mv 'articles-training-bypublisher-20181122.zip?download=1' bypublisher.zip\n",
        "!mv 'ground-truth-training-bypublisher-20181122.zip?download=1' gd.zip\n",
        "!unzip gd.zip\n",
        "!unzip bypublisher.zip\n",
        "!mv 'articles-training-bypublisher-20181122.xml' bypublisher.xml\n",
        "!mv 'ground-truth-training-bypublisher-20181122.xml' gd.xml\n",
        "!rm bypublisher.zip\n",
        "!rm gd.zip"
      ],
      "execution_count": 10,
      "outputs": [
        {
          "output_type": "stream",
          "text": [
            "--2020-11-30 17:36:08--  https://zenodo.org/record/1489920/files/articles-training-bypublisher-20181122.zip?download=1\n",
            "Resolving zenodo.org (zenodo.org)... 137.138.76.77\n",
            "Connecting to zenodo.org (zenodo.org)|137.138.76.77|:443... connected.\n",
            "HTTP request sent, awaiting response... 200 OK\n",
            "Length: 980769009 (935M) [application/octet-stream]\n",
            "Saving to: ‘articles-training-bypublisher-20181122.zip?download=1’\n",
            "\n",
            "articles-training-b 100%[===================>] 935.33M  11.9MB/s    in 90s     \n",
            "\n",
            "2020-11-30 17:37:39 (10.4 MB/s) - ‘articles-training-bypublisher-20181122.zip?download=1’ saved [980769009/980769009]\n",
            "\n",
            "--2020-11-30 17:37:39--  https://zenodo.org/record/1489920/files/ground-truth-training-bypublisher-20181122.zip?download=1\n",
            "Resolving zenodo.org (zenodo.org)... 137.138.76.77\n",
            "Connecting to zenodo.org (zenodo.org)|137.138.76.77|:443... connected.\n",
            "HTTP request sent, awaiting response... 200 OK\n",
            "Length: 22426411 (21M) [application/octet-stream]\n",
            "Saving to: ‘ground-truth-training-bypublisher-20181122.zip?download=1’\n",
            "\n",
            "ground-truth-traini 100%[===================>]  21.39M  15.3MB/s    in 1.4s    \n",
            "\n",
            "2020-11-30 17:37:41 (15.3 MB/s) - ‘ground-truth-training-bypublisher-20181122.zip?download=1’ saved [22426411/22426411]\n",
            "\n",
            "Archive:  gd.zip\n",
            "  inflating: ground-truth-training-bypublisher-20181122.xml  \n",
            "Archive:  bypublisher.zip\n",
            "  inflating: articles-training-bypublisher-20181122.xml  \n"
          ],
          "name": "stdout"
        }
      ]
    },
    {
      "cell_type": "code",
      "metadata": {
        "id": "yp8dph0D95tG"
      },
      "source": [
        "'''\n",
        "Dataloader\n",
        "'''\n",
        "\n",
        "import sys\n",
        "import xml.sax\n",
        "import xml.parsers.expat\n",
        "import time \n",
        "import pickle\n",
        "import os\n",
        "from sklearn.svm import LinearSVC\n",
        "from sklearn.feature_extraction.text import TfidfVectorizer \n",
        "from collections import OrderedDict\n",
        "import pandas as pd\n",
        "import numpy as np\n",
        "import os\n",
        "import pandas as pd \n",
        "\n"
      ],
      "execution_count": 12,
      "outputs": []
    },
    {
      "cell_type": "code",
      "metadata": {
        "id": "kFHzTXGOOIgB"
      },
      "source": [
        "# class ParseHandler(xml.sax.handler.ContentHandler):\n",
        "#     def __init__(self):\n",
        "#         self.text=\"\"\n",
        "#     def startElement(self, name, attrs):\n",
        "#         self.CurrentData = name\n",
        "#         if(self.CurrentData==\"article\"):\n",
        "#             labels.append(attrs['hyperpartisan'])\n",
        "\n",
        "\n",
        "# labels = []\n",
        "# parser = xml.sax.make_parser()\n",
        "# parser.setFeature(xml.sax.handler.feature_namespaces, 0) \n",
        "# Handler = ParseHandler()\n",
        "# parser.setContentHandler(Handler)\n",
        "# parser.parse(\"gd.xml\")\n",
        "\n",
        "# text=[]\n",
        "# import re\n",
        "# class ParseHandler1(xml.sax.handler.ContentHandler):\n",
        "#     def __init__(self):\n",
        "#         self.text=\"\"\n",
        "#         self.r1=0\n",
        "#     def startElement(self, name, attrs):\n",
        "#         self.CurrentData = name\n",
        "#     def endElement(self, name):\n",
        "#         if(name==\"article\"):\n",
        "#             self.text=clean_text(self.text)\n",
        "#             self.text=re.sub(r'([^\\s\\w]|_)+', '', self.text)\n",
        "#             self.text=self.text.strip()\n",
        "#             text.append(self.text)\n",
        "#             self.text=\"\"    \n",
        "#     def characters(self, data):\n",
        "#         self.text += data\n",
        "\n",
        "# def clean_text(text1):\n",
        "#     text1 = text1.replace(\".\", \". \")\n",
        "#     text1 = text1.replace(\" _\", \" \")\n",
        "#     text1 = text1.replace(\"  \", \" \")\n",
        "#     text1 = text1.replace(\". . . .\", \"...\")\n",
        "#     text1 = text1.replace(\". . .\", \"...\")\n",
        "#     return text1\n",
        "\n",
        "# parser = xml.sax.make_parser()\n",
        "# parser.setFeature(xml.sax.handler.feature_namespaces, 0) \n",
        "# Handler = ParseHandler1()\n",
        "# parser.setContentHandler(Handler)\n",
        "# parser.parse(\"bypublisher.xml\")\n",
        "\n",
        "\n",
        "# df1 = pd.DataFrame(text)\n",
        "# df2 = pd.DataFrame(labels)\n",
        "# # print(df1)\n",
        "# result = pd.concat([df1, df2], axis=1, sort=False) \n",
        "# result.columns = ['texts','labels']\n",
        "# result.to_csv('publisher.csv')\n"
      ],
      "execution_count": 15,
      "outputs": []
    },
    {
      "cell_type": "code",
      "metadata": {
        "id": "_6KspPT1RH7p"
      },
      "source": [
        "!cp 'drive/My Drive/ANLP_proj/publisher.csv' ."
      ],
      "execution_count": null,
      "outputs": []
    },
    {
      "cell_type": "code",
      "metadata": {
        "id": "S6pA5tAsb9Cj",
        "colab": {
          "base_uri": "https://localhost:8080/"
        },
        "outputId": "d2ba3869-9e6f-4a4c-e0bf-beb906fa40f2"
      },
      "source": [
        "max_articles = 10000\n",
        "durl = 'drive/My Drive/ANLP_proj/'\n",
        "articles = []\n",
        "labels = []\n",
        "csv_File = durl + 'publisher.csv'\n",
        "df_itr = pd.read_csv(csv_File,chunksize=100)\n",
        "cur = 0\n",
        "for it in df_itr:\n",
        "  if cur >= max_articles//100:\n",
        "    break\n",
        "  articles.extend(it['texts'])\n",
        "  labels.extend(it['labels'])\n",
        "  cur+=1\n",
        "  # for row in it:\n",
        "    # print(row)\n",
        "    # articles.extend(row.iloc[cur]['texts'])\n",
        "    # labels.extend(row.iloc[cur]['labels'])\n",
        "labels = np.array(labels,dtype = np.uint8)\n",
        "print('number of samples = ',len(labels), labels[1])"
      ],
      "execution_count": 16,
      "outputs": [
        {
          "output_type": "stream",
          "text": [
            "number of samples =  10000 1\n"
          ],
          "name": "stdout"
        }
      ]
    },
    {
      "cell_type": "code",
      "metadata": {
        "id": "j4PPjTYMmomt"
      },
      "source": [
        "# df = pd.read_csv('article.csv')\n",
        "# articles = df['texts'].to_numpy()\n",
        "# labels = df['labels'].to_numpy()\n",
        "# print(articles.shape)\n"
      ],
      "execution_count": null,
      "outputs": []
    },
    {
      "cell_type": "code",
      "metadata": {
        "id": "ZbAZqEQ0g7iI"
      },
      "source": [
        "!pip install transformers\n",
        "import tensorflow as tf\n",
        "from transformers import BertTokenizer\n",
        "tokenizer=BertTokenizer.from_pretrained('bert-base-uncased')\n"
      ],
      "execution_count": null,
      "outputs": []
    },
    {
      "cell_type": "code",
      "metadata": {
        "id": "QPP11ig1bJ0z"
      },
      "source": [
        "max_length_test = 50\n",
        "def map_example_to_dict(input_ids, attention_masks, token_type_ids, label):\n",
        "  return {\n",
        "      \"input_ids\": input_ids,\n",
        "      \"token_type_ids\": token_type_ids,\n",
        "      \"attention_mask\": attention_masks,\n",
        "  }, label\n",
        "\n",
        "def encode_examples(posts,labels):\n",
        "  # prepare list, so that we can build up final TensorFlow dataset from slices.\n",
        "  input_ids_list = []\n",
        "  token_type_ids_list = []\n",
        "  attention_mask_list = []\n",
        "  label_list = []\n",
        "  for post, label in zip(posts,labels):\n",
        "    if not isinstance(post, str):\n",
        "      continue\n",
        "    bert_input = tokenizer.encode_plus(post,\n",
        "                                       truncation=True,           \n",
        "                                      add_special_tokens = True, # add [CLS], [SEP]\n",
        "                                      max_length = max_length_test, # max length of the text that can go to BERT\n",
        "                                      padding='max_length', # add [PAD] tokens\n",
        "                                      return_attention_mask = True, # add attention mask to not focus on pad token\n",
        "\n",
        "                                      )\n",
        "  \n",
        "    input_ids_list.append(bert_input['input_ids'])\n",
        "    token_type_ids_list.append(bert_input['token_type_ids'])\n",
        "    attention_mask_list.append(bert_input['attention_mask'])\n",
        "    label_list.append([label])\n",
        "  return tf.data.Dataset.from_tensor_slices((input_ids_list, attention_mask_list, token_type_ids_list, label_list)).map(map_example_to_dict)\n",
        "\n",
        "def convert_to_tfdataset(articles,labels,batch_size = 30):\n",
        "  dataset = encode_examples(articles,labels)\n",
        "  dataset = dataset.shuffle(dataset.__len__().numpy()).batch(batch_size)\n",
        "  return dataset\n"
      ],
      "execution_count": 18,
      "outputs": []
    },
    {
      "cell_type": "code",
      "metadata": {
        "id": "9qe7D_ZTxcbj"
      },
      "source": [
        "# split\n",
        "from sklearn.model_selection import train_test_split\n",
        "X_train, X_test, y_train, y_test = train_test_split( articles, labels, test_size=0.3, random_state=21)\n",
        "train_dataset_publisher = convert_to_tfdataset(X_train,y_train,batch_size = 30)\n",
        "test_dataset_publisher = convert_to_tfdataset(X_test,y_test,batch_size = 30)"
      ],
      "execution_count": 19,
      "outputs": []
    },
    {
      "cell_type": "code",
      "metadata": {
        "id": "aC7kMgb4N8h-"
      },
      "source": [
        "#byarticle\n",
        "df = pd.read_csv('cleaned_data.csv')\n",
        "articles = df.texts\n",
        "labels = df.labels\n",
        "# split\n",
        "from sklearn.model_selection import train_test_split\n",
        "X_train, X_test, y_train, y_test = train_test_split( articles, labels, test_size=0.3, random_state=21)\n",
        "train_dataset_article = convert_to_tfdataset(X_train,y_train,batch_size = 30)\n",
        "test_dataset_article = convert_to_tfdataset(X_test,y_test,batch_size = 30)"
      ],
      "execution_count": null,
      "outputs": []
    },
    {
      "cell_type": "code",
      "metadata": {
        "id": "ZVEQsTs1g4CB",
        "colab": {
          "base_uri": "https://localhost:8080/",
          "height": 66,
          "referenced_widgets": [
            "d63b2f6ee0f149d0af2094d86384d49b",
            "a32f50f4db3a489b9dac01b3de21f7e6",
            "079ecfedbda44b6696cc20a9609cd74f",
            "00125ebee6f946718c11b17f42e1f07f",
            "842085c366a74b69a2842ff42aa0baa8",
            "a2b8d04c1ecc48fca12d425ed21f4f82",
            "d288b073faf74517940983331d0dbe0c",
            "be87999276054b178236b6f15a402262"
          ]
        },
        "outputId": "6d6131c6-4674-47c6-c40a-3244dc03d816"
      },
      "source": [
        "from transformers import BertConfig\n",
        "model_name = 'bert-base-uncased'\n",
        "config1 = BertConfig.from_pretrained(model_name)\n",
        "config1.num_labels = 2\n",
        "from transformers import TFBertForSequenceClassification"
      ],
      "execution_count": 4,
      "outputs": [
        {
          "output_type": "display_data",
          "data": {
            "application/vnd.jupyter.widget-view+json": {
              "model_id": "d63b2f6ee0f149d0af2094d86384d49b",
              "version_minor": 0,
              "version_major": 2
            },
            "text/plain": [
              "HBox(children=(FloatProgress(value=0.0, description='Downloading', max=433.0, style=ProgressStyle(description_…"
            ]
          },
          "metadata": {
            "tags": []
          }
        },
        {
          "output_type": "stream",
          "text": [
            "\n"
          ],
          "name": "stdout"
        }
      ]
    },
    {
      "cell_type": "code",
      "metadata": {
        "id": "IXAFoc27kDCq",
        "colab": {
          "base_uri": "https://localhost:8080/",
          "height": 171,
          "referenced_widgets": [
            "e37267dee0aa4c1d9099f741bd92937d",
            "2394b8d754894b9d9bdee04ee098171b",
            "d8176180587b4d1da2914bdcf7b6f4f6",
            "fff57df688d240df8551e1e1d0293ea0",
            "c8dfd5e5258947d7a739eab447d6747e",
            "038c2009504b43408b2c97a18c467ec8",
            "921fd1fe968e4f58ac3e6a3fad6dab11",
            "579033791764423493224296ddc97c16"
          ]
        },
        "outputId": "a54d35f1-133b-44bb-af6e-fe4b47330413"
      },
      "source": [
        "from transformers import TFBertForSequenceClassification\n",
        "\n",
        "model = TFBertForSequenceClassification.from_pretrained(model_name,config = config1)\n",
        "learning_rate = 2e-5\n",
        "optimizer = tf.keras.optimizers.Adam(learning_rate=learning_rate, epsilon=1e-08)\n",
        "loss = tf.keras.losses.SparseCategoricalCrossentropy(from_logits=True)\n",
        "metric = tf.keras.metrics.SparseCategoricalAccuracy('accuracy')\n",
        "model.compile(optimizer=optimizer, loss=loss, metrics=[metric])"
      ],
      "execution_count": 5,
      "outputs": [
        {
          "output_type": "display_data",
          "data": {
            "application/vnd.jupyter.widget-view+json": {
              "model_id": "e37267dee0aa4c1d9099f741bd92937d",
              "version_minor": 0,
              "version_major": 2
            },
            "text/plain": [
              "HBox(children=(FloatProgress(value=0.0, description='Downloading', max=536063208.0, style=ProgressStyle(descri…"
            ]
          },
          "metadata": {
            "tags": []
          }
        },
        {
          "output_type": "stream",
          "text": [
            "\n"
          ],
          "name": "stdout"
        },
        {
          "output_type": "stream",
          "text": [
            "Some layers from the model checkpoint at bert-base-uncased were not used when initializing TFBertForSequenceClassification: ['nsp___cls', 'mlm___cls']\n",
            "- This IS expected if you are initializing TFBertForSequenceClassification from the checkpoint of a model trained on another task or with another architecture (e.g. initializing a BertForSequenceClassification model from a BertForPreTraining model).\n",
            "- This IS NOT expected if you are initializing TFBertForSequenceClassification from the checkpoint of a model that you expect to be exactly identical (initializing a BertForSequenceClassification model from a BertForSequenceClassification model).\n",
            "Some layers of TFBertForSequenceClassification were not initialized from the model checkpoint at bert-base-uncased and are newly initialized: ['dropout_37', 'classifier']\n",
            "You should probably TRAIN this model on a down-stream task to be able to use it for predictions and inference.\n"
          ],
          "name": "stderr"
        }
      ]
    },
    {
      "cell_type": "code",
      "metadata": {
        "colab": {
          "base_uri": "https://localhost:8080/"
        },
        "id": "tO-HZAJz0ME1",
        "outputId": "c86dd0e8-a453-4b8b-fb19-fd979644a560"
      },
      "source": [
        "# PRETRAIN with just byarticle\n",
        "bert_history = model.fit(train_dataset_article,epochs=5,verbose=1,validation_data=test_dataset_article)"
      ],
      "execution_count": 22,
      "outputs": [
        {
          "output_type": "stream",
          "text": [
            "Epoch 1/5\n",
            "16/16 [==============================] - 6s 362ms/step - loss: 0.6008 - accuracy: 0.8204 - val_loss: 0.5324 - val_accuracy: 0.7732\n",
            "Epoch 2/5\n",
            "16/16 [==============================] - 6s 369ms/step - loss: 0.1751 - accuracy: 0.9534 - val_loss: 0.6542 - val_accuracy: 0.7371\n",
            "Epoch 3/5\n",
            "16/16 [==============================] - 6s 370ms/step - loss: 0.0876 - accuracy: 0.9756 - val_loss: 0.7315 - val_accuracy: 0.7784\n",
            "Epoch 4/5\n",
            "16/16 [==============================] - 6s 364ms/step - loss: 0.0464 - accuracy: 0.9889 - val_loss: 0.7710 - val_accuracy: 0.7784\n",
            "Epoch 5/5\n",
            "16/16 [==============================] - 6s 358ms/step - loss: 0.0257 - accuracy: 0.9956 - val_loss: 0.8981 - val_accuracy: 0.7680\n"
          ],
          "name": "stdout"
        }
      ]
    },
    {
      "cell_type": "code",
      "metadata": {
        "id": "xhxXOvuGkP40",
        "colab": {
          "base_uri": "https://localhost:8080/"
        },
        "outputId": "95590567-2cfb-48b3-f368-dfc545c283be"
      },
      "source": [
        "# PRETRAIN with bypublisher\n",
        "bert_history = model.fit(train_dataset_publisher,epochs=5,verbose=1,validation_data=test_dataset)"
      ],
      "execution_count": null,
      "outputs": [
        {
          "output_type": "stream",
          "text": [
            "Epoch 1/5\n",
            "1167/1167 [==============================] - 440s 377ms/step - loss: 0.3859 - accuracy: 0.8176 - val_loss: 0.3435 - val_accuracy: 0.8449\n",
            "Epoch 2/5\n",
            "1167/1167 [==============================] - 454s 389ms/step - loss: 0.2544 - accuracy: 0.8892 - val_loss: 0.3112 - val_accuracy: 0.8630\n",
            "Epoch 3/5\n",
            "1167/1167 [==============================] - 455s 390ms/step - loss: 0.1434 - accuracy: 0.9440 - val_loss: 0.3879 - val_accuracy: 0.8628\n",
            "Epoch 4/5\n",
            "1167/1167 [==============================] - 454s 389ms/step - loss: 0.0718 - accuracy: 0.9749 - val_loss: 0.4562 - val_accuracy: 0.8635\n",
            "Epoch 5/5\n",
            "1167/1167 [==============================] - 454s 389ms/step - loss: 0.0420 - accuracy: 0.9853 - val_loss: 0.5676 - val_accuracy: 0.8605\n"
          ],
          "name": "stdout"
        }
      ]
    },
    {
      "cell_type": "code",
      "metadata": {
        "colab": {
          "base_uri": "https://localhost:8080/"
        },
        "id": "ah_e0JRjzcUu",
        "outputId": "0a8bb29c-5919-43b7-a581-cb325e07b5dc"
      },
      "source": [
        "# PRETRAIN with bypublisher + FINETUNE over byarticle\n",
        "bert_history = model.fit(train_dataset_publisher,epochs=5,verbose=1,validation_data=test_dataset_publisher)"
      ],
      "execution_count": 20,
      "outputs": [
        {
          "output_type": "stream",
          "text": [
            "Epoch 1/5\n",
            "234/234 [==============================] - 82s 348ms/step - loss: 0.4932 - accuracy: 0.7591 - val_loss: 0.6323 - val_accuracy: 0.6186\n",
            "Epoch 2/5\n",
            "234/234 [==============================] - 81s 345ms/step - loss: 0.3229 - accuracy: 0.8610 - val_loss: 0.7596 - val_accuracy: 0.6443\n",
            "Epoch 3/5\n",
            "234/234 [==============================] - 81s 346ms/step - loss: 0.1808 - accuracy: 0.9334 - val_loss: 1.1370 - val_accuracy: 0.5619\n",
            "Epoch 4/5\n",
            "234/234 [==============================] - 81s 346ms/step - loss: 0.0928 - accuracy: 0.9660 - val_loss: 1.2653 - val_accuracy: 0.6392\n",
            "Epoch 5/5\n",
            "234/234 [==============================] - 81s 345ms/step - loss: 0.0542 - accuracy: 0.9816 - val_loss: 1.5319 - val_accuracy: 0.6237\n"
          ],
          "name": "stdout"
        }
      ]
    },
    {
      "cell_type": "markdown",
      "metadata": {
        "id": "CbJImjiKNc5x"
      },
      "source": [
        "### Checkpoint"
      ]
    },
    {
      "cell_type": "code",
      "metadata": {
        "id": "wZuinxx1Eok1"
      },
      "source": [
        "# LOAD FROM CHECKPOINT\n",
        "checkpoint_url = 'drive/My Drive/ANLP_proj/checkpoints'\n",
        "model.load_weights(checkpoint_url)"
      ],
      "execution_count": null,
      "outputs": []
    },
    {
      "cell_type": "code",
      "metadata": {
        "colab": {
          "base_uri": "https://localhost:8080/"
        },
        "id": "t7OVIP5_-m7i",
        "outputId": "d66001a4-411c-4a3b-ec2d-715f57059476"
      },
      "source": [
        "model.evaluate(test_dataset_article)"
      ],
      "execution_count": 21,
      "outputs": [
        {
          "output_type": "stream",
          "text": [
            "7/7 [==============================] - 1s 94ms/step - loss: 1.5319 - accuracy: 0.6237\n"
          ],
          "name": "stdout"
        },
        {
          "output_type": "execute_result",
          "data": {
            "text/plain": [
              "[1.5318535566329956, 0.623711347579956]"
            ]
          },
          "metadata": {
            "tags": []
          },
          "execution_count": 21
        }
      ]
    }
  ]
}